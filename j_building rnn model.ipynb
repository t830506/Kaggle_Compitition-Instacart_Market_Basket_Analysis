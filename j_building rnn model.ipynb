{
 "cells": [
  {
   "cell_type": "code",
   "execution_count": 1,
   "metadata": {
    "collapsed": false
   },
   "outputs": [
    {
     "name": "stdout",
     "output_type": "stream",
     "text": [
      "import data\n",
      "merge orders and order_products__prior\n",
      "features extraction...\n",
      "size of prd features : 9\n",
      "size of users features : 18\n",
      "nb of usersXproducts features : 12\n",
      "merge prod, user and usersXprod feature on usersXprod\n",
      "merge train reordered to usersXprod\n",
      "split train and test\n",
      "size of training set : 8474661\n",
      "size of testing set : 4833292\n",
      "Size of features of dataset : 36\n",
      "Class weight of 0 : 0.9021997458069414\n",
      "Class weight of 1 : 0.09780025419305857\n"
     ]
    }
   ],
   "source": [
    "%run preprocessing.py"
   ]
  },
  {
   "cell_type": "code",
   "execution_count": 2,
   "metadata": {
    "collapsed": false
   },
   "outputs": [
    {
     "name": "stderr",
     "output_type": "stream",
     "text": [
      "Using TensorFlow backend.\n"
     ]
    }
   ],
   "source": [
    "from sklearn.model_selection import train_test_split\n",
    "from sklearn.metrics import accuracy_score\n",
    "from sklearn.metrics import confusion_matrix\n",
    "from keras.utils import np_utils\n"
   ]
  },
  {
   "cell_type": "code",
   "execution_count": 3,
   "metadata": {
    "collapsed": false
   },
   "outputs": [
    {
     "name": "stdout",
     "output_type": "stream",
     "text": [
      "Shape of X : (6779728, 36)\n",
      "Shape of Y : (6779728, 2)\n"
     ]
    }
   ],
   "source": [
    "Y = np_utils.to_categorical(y, 2)\n",
    "\n",
    "X_train, X_val, y_train, y_val = train_test_split(np.array(X), Y, test_size = 0.2, random_state = 0)\n",
    "print(\"Shape of X :\", X_train.shape)\n",
    "print(\"Shape of Y :\", y_train.shape)"
   ]
  },
  {
   "cell_type": "code",
   "execution_count": 4,
   "metadata": {
    "collapsed": true
   },
   "outputs": [],
   "source": [
    "def prepare_sequences(x_train, y_train, window_length):\n",
    "    windows = []\n",
    "    windows_y = []\n",
    "    for i, sequence in enumerate(x_train):\n",
    "        len_seq = len(sequence)\n",
    "        for window_start in range(0, len_seq - window_length + 1):\n",
    "            window_end = window_start + window_length\n",
    "            window = sequence[window_start:window_end]\n",
    "            windows.append(window)\n",
    "            windows_y.append(y_train[i])\n",
    "    return np.array(windows), np.array(windows_y)"
   ]
  },
  {
   "cell_type": "code",
   "execution_count": 5,
   "metadata": {
    "collapsed": false
   },
   "outputs": [
    {
     "name": "stdout",
     "output_type": "stream",
     "text": [
      "Shape of sequence_X : (6779728, 36, 1)\n",
      "Shape of sequence_y : (6779728, 2)\n"
     ]
    }
   ],
   "source": [
    "X_train_new, y_train_new = prepare_sequences(X_train, y_train, 36)\n",
    "X_train_new = X_train_new.reshape(X_train_new.shape[0], X_train_new.shape[1], 1)\n",
    "\n",
    "print(\"Shape of sequence_X :\", X_train_new.shape)\n",
    "print(\"Shape of sequence_y :\", y_train_new.shape)"
   ]
  },
  {
   "cell_type": "code",
   "execution_count": 13,
   "metadata": {
    "collapsed": false
   },
   "outputs": [
    {
     "name": "stdout",
     "output_type": "stream",
     "text": [
      "Building STATELESS model...\n",
      "_________________________________________________________________\n",
      "Layer (type)                 Output Shape              Param #   \n",
      "=================================================================\n",
      "lstm_14 (LSTM)               (None, 36, 256)           264192    \n",
      "_________________________________________________________________\n",
      "lstm_15 (LSTM)               (None, 36, 512)           1574912   \n",
      "_________________________________________________________________\n",
      "lstm_16 (LSTM)               (None, 512)               2099200   \n",
      "_________________________________________________________________\n",
      "dense_2 (Dense)              (None, 2)                 1026      \n",
      "=================================================================\n",
      "Total params: 3,939,330\n",
      "Trainable params: 3,939,330\n",
      "Non-trainable params: 0\n",
      "_________________________________________________________________\n"
     ]
    }
   ],
   "source": [
    "from keras.models import Sequential\n",
    "from keras.layers import Dense\n",
    "from keras.layers import LSTM\n",
    "from keras.layers.embeddings import Embedding\n",
    "from keras.preprocessing import sequence\n",
    "\n",
    "max_len = X_train_new.shape[1]\n",
    "batch_size = 1024\n",
    "nb_epoch = 100\n",
    "\n",
    "print('Building STATELESS model...')\n",
    "model = Sequential()\n",
    "model.add(LSTM(256, input_shape = (max_len, 1), return_sequences = True, stateful = False))\n",
    "model.add(LSTM(512, return_sequences = True))\n",
    "model.add(LSTM(512))\n",
    "model.add(Dense(2, activation = 'sigmoid'))\n",
    "model.compile(loss = 'binary_crossentropy',\n",
    "              optimizer = 'adam',\n",
    "              metrics = ['accuracy'])\n",
    "model.summary()"
   ]
  },
  {
   "cell_type": "code",
   "execution_count": null,
   "metadata": {
    "collapsed": true
   },
   "outputs": [],
   "source": [
    "history = model.fit(X_train_new, y_train_new,\n",
    "                    batch_size = batch_size,  \n",
    "                    epochs = nb_epoch,  \n",
    "                    verbose = 1,  \n",
    "                    validation_split = 0.1,  \n",
    "                    class_weight = {0: 1, 1: 2.7})\n",
    "\n",
    "loss = history.history.get('loss')\n",
    "acc = history.history.get('acc')\n",
    "\n",
    "''' Access the performance on validation data '''\n",
    "val_loss = history.history.get('val_loss')\n",
    "val_acc = history.history.get('val_acc')\n",
    "\n",
    "''' Visualize the loss and accuracy of both models'''\n",
    "import matplotlib.pyplot as plt\n",
    "plt.figure(0)\n",
    "plt.subplot(121)\n",
    "plt.plot(range(len(loss)), loss,label = 'Training')\n",
    "plt.plot(range(len(val_loss)), val_loss,label = 'Validation')\n",
    "plt.title('Loss')\n",
    "plt.legend(loc='upper left')\n",
    "plt.subplot(122)\n",
    "plt.plot(range(len(acc)), acc,label = 'Training')\n",
    "plt.plot(range(len(val_acc)), val_acc,label = 'Validation')\n",
    "plt.title('Accuracy')\n",
    "plt.show()"
   ]
  },
  {
   "cell_type": "code",
   "execution_count": null,
   "metadata": {
    "collapsed": true
   },
   "outputs": [],
   "source": [
    "X_val_new, y_val_new = prepare_sequences(X_val, y_val, 17)\n",
    "X_val_new = X_val_new.reshape(X_val_new.shape[0], X_val_new.shape[1], 1)\n",
    "print(\"Shape of sequence_X :\", X_val_new.shape)\n",
    "print(\"Shape of sequence_y :\", y_val_new.shape)\n",
    "\n",
    "### Final evaluation of the model\n",
    "scores = model.evaluate(X_val_new, y_val_new, verbose = 0)\n",
    "print(\"Accuracy: %.2f%%\" % (scores[1]*100))"
   ]
  },
  {
   "cell_type": "code",
   "execution_count": null,
   "metadata": {
    "collapsed": true
   },
   "outputs": [],
   "source": [
    "y_pred = model.predict(X_val_new, batch_size = 32, verbose = 0)\n",
    "\n",
    "y_pred = pd.DataFrame(y_pred, columns = [\"no\", \"yes\"])\n",
    "y_val = pd.DataFrame(y_val_new, columns = [\"no\", \"yes\"])\n",
    "print('Misclassified samples: %d' % (y_val.no != y_pred.no).sum())\n",
    "print('Accuracy : %.2f' % ((y_val.no == y_pred.no).sum() / y_val.no.shape[0]))\n",
    "print('Accuracy (sklearn): %.2f' % accuracy_score(y_val.no, y_pred.no))\n",
    "print(\"==confusion matrix==\")\n",
    "print(confusion_matrix(y_val.no, y_pred.no, labels = [0,1], sample_weight = None))"
   ]
  }
 ],
 "metadata": {
  "kernelspec": {
   "display_name": "Python 3",
   "language": "python",
   "name": "python3"
  },
  "language_info": {
   "codemirror_mode": {
    "name": "ipython",
    "version": 3
   },
   "file_extension": ".py",
   "mimetype": "text/x-python",
   "name": "python",
   "nbconvert_exporter": "python",
   "pygments_lexer": "ipython3",
   "version": "3.6.0"
  }
 },
 "nbformat": 4,
 "nbformat_minor": 2
}
