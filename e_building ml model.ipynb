{
 "cells": [
  {
   "cell_type": "markdown",
   "metadata": {},
   "source": [
    "### Data Preprocessing"
   ]
  },
  {
   "cell_type": "code",
   "execution_count": 1,
   "metadata": {
    "collapsed": false
   },
   "outputs": [
    {
     "name": "stdout",
     "output_type": "stream",
     "text": [
      "import data\n",
      "merge orders and order_products__prior\n",
      "size of prd features : 5\n",
      "size of users features : 13\n",
      "nb of usersXproducts features : 13\n",
      "merge prod, user and usersXprod feature on usersXprod\n",
      "order row 2000000\n",
      "order row 4000000\n",
      "order row 6000000\n",
      "order row 8000000\n",
      "order row 10000000\n",
      "order row 12000000\n",
      "shape of usersXprod : (13307953, 32)\n"
     ]
    }
   ],
   "source": [
    "%run preprocessing.py\n",
    "print (\"shape of usersXprod :\", usersXprod.shape)\n"
   ]
  },
  {
   "cell_type": "code",
   "execution_count": 2,
   "metadata": {
    "collapsed": false
   },
   "outputs": [
    {
     "name": "stdout",
     "output_type": "stream",
     "text": [
      "user of afewXlow : 2006\n",
      "user of afew : 13439\n",
      "user of low : 5076\n",
      "usersXprod of afewXlow : 0.0030049579564303515\n",
      "usersXprod of afew : 0.014907970950106441\n",
      "usersXprod of low : 0.01563366369463038\n"
     ]
    }
   ],
   "source": [
    "# 對於購買力很差的顧客做篩選\n",
    "# 針對一些超愛reordered跟超愛亂買的消費者做刪除 (high, normal, low)\n",
    "# (train, test): (131209, 75000)\n",
    "\n",
    "t_afew = 20\n",
    "t_low = 0.1\n",
    "\n",
    "afewXlow = usersXprod[(usersXprod.eval_set == \"train\")&(usersXprod.user_total_product <= t_afew)&(usersXprod.user_reorder_ratio < t_low)]\n",
    "afew = usersXprod[(usersXprod.eval_set == \"train\")&(usersXprod.user_total_product <= t_afew)]\n",
    "low = usersXprod[(usersXprod.eval_set == \"train\")&(usersXprod.user_reorder_ratio < t_low)]\n",
    "\n",
    "print (\"user of afewXlow :\", len(set(afewXlow.user_id)))\n",
    "print (\"user of afew :\", len(set(afew.user_id)))\n",
    "print (\"user of low :\", len(set(low.user_id)))\n",
    "print (\"usersXprod of afewXlow :\", afewXlow.shape[0]/usersXprod[(usersXprod.eval_set == \"train\")].shape[0])\n",
    "print (\"usersXprod of afew :\", afew.shape[0]/usersXprod[(usersXprod.eval_set == \"train\")].shape[0])\n",
    "print (\"usersXprod of low :\", low.shape[0]/usersXprod[(usersXprod.eval_set == \"train\")].shape[0])\n",
    "\n",
    "del afewXlow\n",
    "del afew\n",
    "del low"
   ]
  },
  {
   "cell_type": "code",
   "execution_count": 3,
   "metadata": {
    "collapsed": false
   },
   "outputs": [
    {
     "name": "stdout",
     "output_type": "stream",
     "text": [
      "size of training set : 8474661\n",
      "size of testing set : 4833292\n",
      "size of subset : 847405\n"
     ]
    }
   ],
   "source": [
    "con_train = (usersXprod.eval_set == \"train\")#&(usersXprod.user_reorder_ratio >= t_low)\n",
    "con_test = (usersXprod.eval_set == \"test\")\n",
    "\n",
    "train = usersXprod[con_train]\n",
    "train.drop(['eval_set'], axis=1, inplace = True)\n",
    "\n",
    "X_test = usersXprod[con_test]\n",
    "X_test.drop(['eval_set'], axis=1, inplace = True)\n",
    "\n",
    "print(\"size of training set :\", train.shape[0])\n",
    "print(\"size of testing set  :\", X_test.shape[0])\n",
    "\n",
    "# subset much fast!\n",
    "train = train[train.index % 10 == 1]\n",
    "print (\"size of subset :\", train.shape[0])\n"
   ]
  },
  {
   "cell_type": "code",
   "execution_count": 6,
   "metadata": {
    "collapsed": false
   },
   "outputs": [
    {
     "name": "stdout",
     "output_type": "stream",
     "text": [
      "Size of features of dataset : 30\n",
      "Class weight of 0 : 0.9023619166750255\n",
      "Class weight of 1 : 0.09763808332497448\n"
     ]
    }
   ],
   "source": [
    "# X, y, class_weight\n",
    "X = train.drop([\"reordered\"], axis = 1)\n",
    "y = train[[\"reordered\"]]\n",
    "\n",
    "class_weight_0 = (y.shape[0] - np.sum(y.reordered)) / y.shape[0]\n",
    "class_weight_1 = np.sum(y.reordered) / y.shape[0]\n",
    "print(\"Size of features of dataset :\", X.shape[1])\n",
    "print(\"Class weight of 0 :\", class_weight_0)\n",
    "print(\"Class weight of 1 :\", class_weight_1)\n"
   ]
  },
  {
   "cell_type": "code",
   "execution_count": 7,
   "metadata": {
    "collapsed": true
   },
   "outputs": [],
   "source": [
    "# train set convert to form of submit\n",
    "\n",
    "train_details = ordert[[\"user_id\", \"order_id\", \"product_id\", \"reordered\"]]\n",
    "\n",
    "try:\n",
    "    df_train_gt = pd.read_csv('train.csv', index_col='order_id')\n",
    "except:\n",
    "    train_gtl = []\n",
    "\n",
    "    for uid, subset in train_details.groupby('user_id'):\n",
    "        subset1 = subset[subset.reordered == 1]\n",
    "        oid = subset.order_id.values[0]\n",
    "\n",
    "        if len(subset1) == 0:\n",
    "            train_gtl.append((oid, 'None'))\n",
    "            continue\n",
    "\n",
    "        ostr = ' '.join([str(int(e)) for e in subset1.product_id.values])\n",
    "        # .strip is needed because join can have a padding space at the end\n",
    "        train_gtl.append((oid, ostr.strip()))\n",
    "\n",
    "    df_train_gt = pd.DataFrame(train_gtl)\n",
    "\n",
    "    df_train_gt.columns = ['order_id', 'products']\n",
    "    df_train_gt.set_index('order_id', inplace=True)\n",
    "    df_train_gt.sort_index(inplace=True)\n",
    "    \n",
    "    df_train_gt.to_csv('train.csv')\n"
   ]
  },
  {
   "cell_type": "markdown",
   "metadata": {},
   "source": [
    "### Define Function"
   ]
  },
  {
   "cell_type": "code",
   "execution_count": 8,
   "metadata": {
    "collapsed": false
   },
   "outputs": [],
   "source": [
    "import time\n",
    "\n",
    "# 計時\n",
    "class tick_tock:\n",
    "    def __init__(self, process_name, verbose=1):\n",
    "        self.process_name = process_name\n",
    "        self.verbose = verbose\n",
    "    def __enter__(self):\n",
    "        if self.verbose:\n",
    "            print(self.process_name)\n",
    "            self.begin_time = time.time()\n",
    "    def __exit__(self, type, value, traceback):\n",
    "        if self.verbose:\n",
    "            end_time = time.time()\n",
    "            print('time lapsing {0} s \\n'.format(end_time - self.begin_time))\n",
    "\n",
    "# 整理成submit形式\n",
    "def ka_add_groupby_features_n_vs_1(df, group_columns_list, target_columns_list, methods_list, keep_only_stats=True, verbose=1):\n",
    "    with tick_tock(\"add stats features\", verbose):\n",
    "        dicts = {\"group_columns_list\": group_columns_list , \"target_columns_list\": target_columns_list, \"methods_list\" :methods_list}\n",
    "\n",
    "        for k, v in dicts.items():\n",
    "            try:\n",
    "                if type(v) == list:\n",
    "                    pass\n",
    "                else:\n",
    "                    raise TypeError(k + \"should be a list\")\n",
    "            except TypeError as e:\n",
    "                print(e)\n",
    "                raise\n",
    "\n",
    "        grouped_name = ''.join(group_columns_list)\n",
    "        target_name = ''.join(target_columns_list)\n",
    "        combine_name = [[grouped_name] + [method_name] + [target_name] for method_name in methods_list]\n",
    "\n",
    "        df_new = df.copy()\n",
    "        grouped = df_new.groupby(group_columns_list)\n",
    "\n",
    "        the_stats = grouped[target_name].agg(methods_list).reset_index()\n",
    "        the_stats.columns = [grouped_name] + \\\n",
    "                            ['_%s_%s_by_%s' % (grouped_name, method_name, target_name) \\\n",
    "                             for (grouped_name, method_name, target_name) in combine_name]\n",
    "        if keep_only_stats:\n",
    "            return the_stats\n",
    "        else:\n",
    "            df_new = pd.merge(left=df_new, right=the_stats, on=group_columns_list, how='left')\n",
    "        return df_new\n",
    "\n",
    "def model_cv(model, X_train, y_train, X_val, y_val, features_to_use):\n",
    "    model.fit(X = X_train[features_to_use].values,\n",
    "              y = y_train.values)\n",
    "    pred = model.predict_proba(X_val[features_to_use].values)\n",
    "    return pred\n",
    "\n",
    "# prediction compare with target\n",
    "def compare_results(df_gt, df_preds):\n",
    "    df_gt_cut = df_gt.loc[df_preds.index]\n",
    "    \n",
    "    f1 = []\n",
    "    for gt, pred in zip(df_gt_cut.sort_index().products, df_preds.sort_index().products):\n",
    "        lgt = gt.replace(\"None\", \"-1\").split(' ')\n",
    "        lpred = pred.replace(\"None\", \"-1\").split(' ')\n",
    "\n",
    "        rr = (np.intersect1d(lgt, lpred))\n",
    "        precision = np.float(len(rr)) / len(lpred)\n",
    "        recall = np.float(len(rr)) / len(lgt)\n",
    "\n",
    "        denom = precision + recall\n",
    "        f1.append(((2 * precision * recall) / denom) if denom > 0 else 0)\n",
    "    \n",
    "    return(np.mean(f1))\n",
    "\n",
    "# testing and convert to form of submittion\n",
    "def testing(model, test0, threshold=0.21):\n",
    "    model.fit(X, y)\n",
    "    test0.loc[:, 'reordered'] = (model.predict_proba(test.values)[:,1] > threshold).astype(int)\n",
    "    test0.loc[:, 'product_id'] = test0.product_id.astype(str)\n",
    "\n",
    "    submit = ka_add_groupby_features_n_vs_1(test0[test0.reordered == 1], \n",
    "                                            group_columns_list = ['order_id'],\n",
    "                                            target_columns_list = ['product_id'],\n",
    "                                            methods_list = [lambda x: ' '.join(set(x))],\n",
    "                                            keep_only_stats = True)\n",
    "    sample_submission = pd.read_csv(\"sample_submission.csv\")\n",
    "    print (len(sample_submission), len(submit))\n",
    "\n",
    "    submit.columns = sample_submission.columns.tolist()\n",
    "    submit_final = sample_submission[['order_id']].merge(submit, how='left').fillna('None')\n",
    "    return submit_final\n"
   ]
  },
  {
   "cell_type": "code",
   "execution_count": 9,
   "metadata": {
    "collapsed": false
   },
   "outputs": [],
   "source": [
    "# cross validation: 用不同user_id去做cross validation\n",
    "\n",
    "def cross_val(model):\n",
    "    df_cvfolds = []\n",
    "    cb = []\n",
    "    for fold in range(4):\n",
    "        train_subset = train[train.user_id % 4 != fold]\n",
    "        valid_subset = train[train.user_id % 4 == fold]\n",
    "\n",
    "        X_train = train_subset.drop('reordered', axis=1)\n",
    "        y_train = train_subset.reordered\n",
    "\n",
    "        X_val = valid_subset.drop('reordered', axis=1)\n",
    "        y_val = valid_subset.reordered\n",
    "\n",
    "        val_index = X_val[['user_id', 'product_id', 'order_id']]\n",
    "    \n",
    "        features_to_use = list(X_train.columns)\n",
    "        features_to_use.remove('user_id')\n",
    "        features_to_use.remove('product_id')\n",
    "        features_to_use.remove('order_id')\n",
    "\n",
    "        rawpreds = model_cv(model, X_train, y_train, X_val, y_val, features_to_use)\n",
    "    \n",
    "        lim = .202\n",
    "        val_out = val_index.copy()\n",
    "\n",
    "        val_out.loc[:, 'reordered'] = (rawpreds[:,1] > lim).astype(int)\n",
    "        val_out.loc[:, 'product_id'] = val_out.product_id.astype(str)\n",
    "        presubmit = ka_add_groupby_features_n_vs_1(val_out[val_out.reordered == 1], \n",
    "                                                   group_columns_list = ['order_id'],\n",
    "                                                   target_columns_list = ['product_id'],\n",
    "                                                   methods_list = [lambda x: ' '.join(set(x))],\n",
    "                                                   keep_only_stats = True)\n",
    "\n",
    "        presubmit = presubmit.set_index('order_id')\n",
    "        presubmit.columns = ['products']\n",
    "\n",
    "        fullfold = pd.DataFrame(index = val_out.order_id.unique())\n",
    "\n",
    "        fullfold.index.name = 'order_id'\n",
    "        fullfold['products'] = ['None'] * len(fullfold)\n",
    "\n",
    "        fullfold.loc[presubmit.index, 'products'] = presubmit.products\n",
    "\n",
    "        print(fold, compare_results(df_train_gt, fullfold))\n",
    "\n",
    "        df_cvfolds.append(fullfold)\n",
    "    df_cv = pd.concat(df_cvfolds)\n",
    "    print(\"===> total prediction VS target\", compare_results(df_train_gt, df_cv))\n"
   ]
  },
  {
   "cell_type": "markdown",
   "metadata": {},
   "source": [
    "### Building Model & Training"
   ]
  },
  {
   "cell_type": "code",
   "execution_count": 10,
   "metadata": {
    "collapsed": false
   },
   "outputs": [
    {
     "name": "stderr",
     "output_type": "stream",
     "text": [
      "/Users/Shawn/anaconda/lib/python3.6/site-packages/sklearn/cross_validation.py:44: DeprecationWarning: This module was deprecated in version 0.18 in favor of the model_selection module into which all the refactored classes and functions are moved. Also note that the interface of the new CV iterators are different from that of this module. This module will be removed in 0.20.\n",
      "  \"This module will be removed in 0.20.\", DeprecationWarning)\n"
     ]
    }
   ],
   "source": [
    "from sklearn.preprocessing import MinMaxScaler, StandardScaler\n",
    "from sklearn.model_selection import train_test_split, GridSearchCV\n",
    "from sklearn.cross_validation import cross_val_score\n",
    "from sklearn.metrics import accuracy_score, confusion_matrix, f1_score\n",
    "\n",
    "from sklearn.linear_model import LogisticRegression, LinearRegression\n",
    "from sklearn.tree import DecisionTreeClassifier\n",
    "from sklearn.ensemble import RandomForestClassifier, BaggingClassifier, AdaBoostClassifier, VotingClassifier, GradientBoostingClassifier, ExtraTreesClassifier\n"
   ]
  },
  {
   "cell_type": "code",
   "execution_count": 11,
   "metadata": {
    "collapsed": false
   },
   "outputs": [
    {
     "name": "stdout",
     "output_type": "stream",
     "text": [
      "add stats features\n",
      "time lapsing 1.060938835144043 s \n",
      "\n",
      "0 0.0858827006292\n",
      "add stats features\n",
      "time lapsing 0.9186413288116455 s \n",
      "\n",
      "1 0.0829764912909\n",
      "add stats features\n",
      "time lapsing 0.8607559204101562 s \n",
      "\n",
      "2 0.0832782231363\n",
      "add stats features\n",
      "time lapsing 0.9002869129180908 s \n",
      "\n",
      "3 0.0832966675598\n",
      "===> total prediction VS target 0.0838603133683\n"
     ]
    }
   ],
   "source": [
    "model = DecisionTreeClassifier()\n",
    "cross_val(model)\n"
   ]
  },
  {
   "cell_type": "code",
   "execution_count": 15,
   "metadata": {
    "collapsed": true
   },
   "outputs": [],
   "source": [
    "rfc = RandomForestClassifier(verbose = 0)\n",
    "params = {'n_estimators' : [ 300 , 500 ],\n",
    "          'max_features' : [ 4 , 5 , 6 ]}\n",
    "\n",
    "# Run the grid search\n",
    "grid_obj = GridSearchCV(rfc, params, scoring = 'roc_auc', verbose = 10)\n",
    "grid_obj = grid_obj.fit(X=train.drop(['user_id', 'product_id', 'order_id', 'reordered'], axis=1),\n",
    "                        y=train.reordered)\n",
    "\n",
    "clf = grid_obj.best_estimator_\n",
    "print(clf)"
   ]
  },
  {
   "cell_type": "code",
   "execution_count": 16,
   "metadata": {
    "collapsed": false
   },
   "outputs": [
    {
     "name": "stdout",
     "output_type": "stream",
     "text": [
      "add stats features\n",
      "time lapsing 0.9567239284515381 s \n",
      "\n",
      "0 0.10489077371\n",
      "add stats features\n",
      "time lapsing 1.0086829662322998 s \n",
      "\n",
      "1 0.103615790758\n",
      "add stats features\n",
      "time lapsing 1.0046360492706299 s \n",
      "\n",
      "2 0.103306652754\n",
      "add stats features\n",
      "time lapsing 0.9848940372467041 s \n",
      "\n",
      "3 0.103143195294\n",
      "===> total prediction VS target 0.103740079765\n"
     ]
    }
   ],
   "source": [
    "cross_val(model = rfc)"
   ]
  },
  {
   "cell_type": "code",
   "execution_count": 18,
   "metadata": {
    "collapsed": false
   },
   "outputs": [
    {
     "data": {
      "image/png": "[encoded data removed]",
      "text/plain": [
       "<matplotlib.figure.Figure at 0x116dc3a20>"
      ]
     },
     "metadata": {},
     "output_type": "display_data"
    }
   ],
   "source": [
    "from matplotlib import pyplot as plt\n",
    "\n",
    "imp = pd.DataFrame(data = model.feature_importances_,\n",
    "                   index = train.drop(['user_id', 'product_id', 'order_id', 'reordered'], axis=1).columns,\n",
    "                   columns = [\"important\"])\n",
    "imp.plot.bar(alpha=0.5)\n",
    "plt.show()"
   ]
  },
  {
   "cell_type": "code",
   "execution_count": 19,
   "metadata": {
    "collapsed": true
   },
   "outputs": [],
   "source": [
    "class  Ensemble (object) :\n",
    "    def  __init__ (self, n_folds, stacker, base_models) :\n",
    "        self.n_folds = n_folds\n",
    "        self.stacker = stacker\n",
    "        self.base_models = base_models\n",
    "    def  fit_predict (self, X, y, T) :\n",
    "        X = np.array(X)\n",
    "        y = np.array(y)\n",
    "        T = np.array(T)\n",
    "        folds = list(KFold(len(y), n_folds=self.n_folds, shuffle= True , random_state= 2016))\n",
    "        S_train = np.zeros((X.shape[ 0 ], len(self.base_models)))\n",
    "        S_test = np.zeros((T.shape[ 0 ], len(self.base_models)))\n",
    "        for i, clf in enumerate(self.base_models):\n",
    "            S_test_i = np.zeros((T.shape[ 0 ], len(folds)))\n",
    "            for j, (train_idx, test_idx) in enumerate(folds):\n",
    "                X_train = X[train_idx]\n",
    "                y_train = y[train_idx]\n",
    "                X_holdout = X[test_idx]\n",
    "                # y_holdout = y[test_idx]\n",
    "                clf.fit(X_train, y_train)\n",
    "                y_pred = clf.predict(X_holdout)[:]\n",
    "                S_train[test_idx, i] = y_pred\n",
    "                S_test_i[:, j] = clf.predict(T)[:]\n",
    "            S_test[:, i] = S_test_i.mean( 1 )\n",
    "        self.stacker.fit(S_train, y)\n",
    "        y_pred = self.stacker.predict(S_test)[:]\n",
    "        return y_pred"
   ]
  },
  {
   "cell_type": "code",
   "execution_count": null,
   "metadata": {
    "collapsed": true
   },
   "outputs": [],
   "source": []
  }
 ],
 "metadata": {
  "kernelspec": {
   "display_name": "Python 3",
   "language": "python",
   "name": "python3"
  },
  "language_info": {
   "codemirror_mode": {
    "name": "ipython",
    "version": 3
   },
   "file_extension": ".py",
   "mimetype": "text/x-python",
   "name": "python",
   "nbconvert_exporter": "python",
   "pygments_lexer": "ipython3",
   "version": "3.6.0"
  }
 },
 "nbformat": 4,
 "nbformat_minor": 2
}
