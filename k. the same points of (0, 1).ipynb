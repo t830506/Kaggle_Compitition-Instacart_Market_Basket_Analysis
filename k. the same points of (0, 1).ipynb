{
 "cells": [
  {
   "cell_type": "code",
   "execution_count": 1,
   "metadata": {
    "collapsed": false
   },
   "outputs": [
    {
     "name": "stdout",
     "output_type": "stream",
     "text": [
      "import data\n",
      "merge orders and order_products__prior\n",
      "features extraction...\n",
      "size of prd features : 9\n",
      "size of users features : 18\n",
      "nb of usersXproducts features : 12\n",
      "merge prod, user and usersXprod feature on usersXprod\n",
      "merge train reordered to usersXprod\n",
      "split train and test\n",
      "size of training set : 8474661\n",
      "size of testing set : 4833292\n",
      "Size of features of dataset : 36\n",
      "Class weight of 0 : 0.9021997458069414\n",
      "Class weight of 1 : 0.09780025419305857\n"
     ]
    }
   ],
   "source": [
    "%run preprocessing.py"
   ]
  },
  {
   "cell_type": "code",
   "execution_count": 2,
   "metadata": {
    "collapsed": false
   },
   "outputs": [
    {
     "name": "stdout",
     "output_type": "stream",
     "text": [
      "(828824, 37)\n",
      "(828824, 37)\n"
     ]
    }
   ],
   "source": [
    "train_1 = train[(train.reordered == 1)]\n",
    "nb_ = train_1.shape[0]\n",
    "train_0 = train[(train.reordered == 0)]\n",
    "train_0 = train_0.sample(n = nb_)\n",
    "print(train_1.shape)\n",
    "print(train_0.shape)"
   ]
  },
  {
   "cell_type": "code",
   "execution_count": 4,
   "metadata": {
    "collapsed": false
   },
   "outputs": [
    {
     "name": "stderr",
     "output_type": "stream",
     "text": [
      "/Users/Shawn/anaconda/lib/python3.6/site-packages/sklearn/cross_validation.py:44: DeprecationWarning: This module was deprecated in version 0.18 in favor of the model_selection module into which all the refactored classes and functions are moved. Also note that the interface of the new CV iterators are different from that of this module. This module will be removed in 0.20.\n",
      "  \"This module will be removed in 0.20.\", DeprecationWarning)\n"
     ]
    }
   ],
   "source": [
    "from sklearn.preprocessing import MinMaxScaler, StandardScaler\n",
    "from sklearn.model_selection import train_test_split\n",
    "from sklearn.cross_validation import cross_val_score\n",
    "from sklearn.metrics import accuracy_score, confusion_matrix, f1_score\n",
    "\n",
    "from sklearn.linear_model import LogisticRegression\n",
    "from sklearn.tree import DecisionTreeClassifier\n",
    "from sklearn.ensemble import RandomForestClassifier, BaggingClassifier, AdaBoostClassifier, VotingClassifier\n"
   ]
  },
  {
   "cell_type": "code",
   "execution_count": 5,
   "metadata": {
    "collapsed": false
   },
   "outputs": [],
   "source": [
    "train_new = pd.concat([train_0, train_1])\n",
    "X = train_new.drop([\"reordered\"], axis = 1)\n",
    "y = train_new[[\"reordered\"]]\n",
    "X_train, X_val, y_train, y_val = train_test_split(X, y, test_size=0.2, random_state=0)\n"
   ]
  },
  {
   "cell_type": "code",
   "execution_count": 6,
   "metadata": {
    "collapsed": true
   },
   "outputs": [],
   "source": [
    "def validation(model):\n",
    "    model.fit(X_train, y_train)\n",
    "    print(str(model), \"cross_val down\")\n",
    "    y_pred = model.predict(X_val).reshape(y_val.shape[0], 1)\n",
    "    print('Misclassified samples: %d' % (y_val != y_pred).sum())\n",
    "    print('Accuracy : %.2f' % ((y_val == y_pred).sum() / y_val.shape[0]))\n",
    "    print('Accuracy (sklearn): %.2f' % accuracy_score(y_val, y_pred))\n",
    "    print(\"=== Confusion Matrix ===\")\n",
    "    print(confusion_matrix(y_val, y_pred, labels = [0,1], sample_weight = None))\n",
    "    print(\"=== F1-score ===\")\n",
    "    print(f1_score(y_val, y_pred, labels=[0,1]))\n",
    "\n",
    "### 整理過的testing dataset 去預測\n",
    "### 拿出以前的商品顧客組合去預測是否reordered    \n",
    "### 建立一個門檻值去篩選是否購買???\n",
    "### 選出指定order_id 購買的商品並匯出\n",
    "def cross_val_and_testing(df, df_test, model, threshold):\n",
    "    model.fit(X, y)\n",
    "#    print (cross_val_score(model, np.array(X), np.array(y).reshape(y.shape[0], ), cv=5))\n",
    "    print (\"Fitting Over\")\n",
    "    pred = pd.DataFrame(model.predict_proba(df_test), columns = [\"prob_0\", \"prob_1\"])\n",
    "    df[\"prediction\"] = pred[\"prob_1\"]\n",
    "    df = df[[\"order_id\", \"product_id\", \"prediction\"]]\n",
    "    print (df.head())\n",
    "\n",
    "    con = (df.prediction > threshold)\n",
    "    test0_0 = df[~con]\n",
    "    test0_1 = df[con]\n",
    "    print (\"Percent of test0 is 0 :\", test0_0.shape[0])#/df.shape[0])\n",
    "    print (\"Percent of test0 is 1 :\", test0_1.shape[0])#/df.shape[0])\n",
    "\n",
    "    f = lambda x: np.array_split(list(set(x)), 1)[0]\n",
    "    order_prod = test0_1.groupby('order_id')[\"product_id\"].apply(f).reset_index()\n",
    "    order_id = df.groupby(\"order_id\")[\"product_id\"].apply(f).reset_index()\n",
    "    submit = pd.merge(order_id[[\"order_id\"]], order_prod, how='left', on=['order_id'])\n",
    "    return submit"
   ]
  },
  {
   "cell_type": "code",
   "execution_count": 7,
   "metadata": {
    "collapsed": true
   },
   "outputs": [],
   "source": [
    "lg = LogisticRegression(penalty = 'l2',\n",
    "                        dual = False,\n",
    "                        tol = 0.0001,\n",
    "                        C = 0.01,\n",
    "                        fit_intercept = True,\n",
    "                        intercept_scaling = 1,\n",
    "                        random_state = 7,\n",
    "                        solver = 'liblinear',\n",
    "                        max_iter = 1000,\n",
    "                        multi_class = 'ovr',\n",
    "                        verbose = 0,\n",
    "                        warm_start = False,\n",
    "                        n_jobs = 1)\n"
   ]
  },
  {
   "cell_type": "code",
   "execution_count": 8,
   "metadata": {
    "collapsed": false
   },
   "outputs": [
    {
     "name": "stdout",
     "output_type": "stream",
     "text": [
      "LogisticRegression(C=0.01, class_weight=None, dual=False, fit_intercept=True,\n",
      "          intercept_scaling=1, max_iter=1000, multi_class='ovr', n_jobs=1,\n",
      "          penalty='l2', random_state=7, solver='liblinear', tol=0.0001,\n",
      "          verbose=0, warm_start=False) cross_val down\n",
      "Misclassified samples: 85864\n",
      "Accuracy : 0.74\n",
      "Accuracy (sklearn): 0.74\n",
      "=== Confusion Matrix ===\n",
      "[[121853  44133]\n",
      " [ 41731 123813]]\n",
      "=== F1-score ===\n",
      "0.742529011365\n",
      "Fitting Over\n",
      "     order_id  product_id  prediction\n",
      "120   2774568         248      0.3369\n",
      "121   2774568        1005      0.5888\n",
      "122   2774568        1819      0.5799\n",
      "123   2774568        7503      0.5020\n",
      "124   2774568        8021      0.6054\n",
      "Percent of test0 is 0 : 3243187\n",
      "Percent of test0 is 1 : 1590105\n"
     ]
    }
   ],
   "source": [
    "threshold = 0.05\n",
    "\n",
    "validation(lg)\n",
    "submit = cross_val_and_testing(df=test0, df_test=test, model=lg, threshold=threshold)\n",
    "submit.to_csv(\"submit_lg.csv\", index = False)"
   ]
  },
  {
   "cell_type": "code",
   "execution_count": 9,
   "metadata": {
    "collapsed": false
   },
   "outputs": [
    {
     "name": "stdout",
     "output_type": "stream",
     "text": [
      "Fitting Over\n",
      "     order_id  product_id  prediction\n",
      "120   2774568         248      0.3369\n",
      "121   2774568        1005      0.5888\n",
      "122   2774568        1819      0.5799\n",
      "123   2774568        7503      0.5020\n",
      "124   2774568        8021      0.6054\n",
      "Percent of test0 is 0 : 3243187\n",
      "Percent of test0 is 1 : 1590105\n"
     ]
    }
   ],
   "source": [
    "df = test0.copy()\n",
    "df_test = test\n",
    "model = lg\n",
    "threshold = 0.05\n",
    "\n",
    "model.fit(X, y)\n",
    "print (\"Fitting Over\")\n",
    "pred = pd.DataFrame(model.predict_proba(df_test), columns = [\"prob_0\", \"prob_1\"])\n",
    "df[\"prediction\"] = pred[\"prob_1\"]\n",
    "df = df[[\"order_id\", \"product_id\", \"prediction\"]]\n",
    "print (df.head())\n",
    "\n",
    "con = (df.prediction > threshold)\n",
    "test0_0 = df[~con]\n",
    "test0_1 = df[con]\n",
    "print (\"Percent of test0 is 0 :\", test0_0.shape[0])#/df.shape[0])\n",
    "print (\"Percent of test0 is 1 :\", test0_1.shape[0])#/df.shape[0])\n",
    "\n",
    "f = lambda x: np.array_split(list(set(x)), 1)[0]\n",
    "order_prod = test0_1.groupby('order_id')[\"product_id\"].apply(f).reset_index()\n",
    "order_id = df.groupby(\"order_id\")[\"product_id\"].apply(f).reset_index()\n",
    "submit = pd.merge(order_id[[\"order_id\"]], order_prod, how='left', on=['order_id'])\n"
   ]
  },
  {
   "cell_type": "code",
   "execution_count": 10,
   "metadata": {
    "collapsed": false
   },
   "outputs": [
    {
     "data": {
      "text/plain": [
       "order_id          0\n",
       "product_id    47751\n",
       "dtype: int64"
      ]
     },
     "execution_count": 10,
     "metadata": {},
     "output_type": "execute_result"
    }
   ],
   "source": [
    "submit.isnull().sum()"
   ]
  },
  {
   "cell_type": "code",
   "execution_count": 12,
   "metadata": {
    "collapsed": false
   },
   "outputs": [
    {
     "data": {
      "text/plain": [
       "(27249, 1590105)"
      ]
     },
     "execution_count": 12,
     "metadata": {},
     "output_type": "execute_result"
    }
   ],
   "source": [
    "len(set(test0_1.order_id)), len(test0_1.order_id)"
   ]
  },
  {
   "cell_type": "code",
   "execution_count": 16,
   "metadata": {
    "collapsed": false
   },
   "outputs": [
    {
     "data": {
      "text/plain": [
       "117"
      ]
     },
     "execution_count": 16,
     "metadata": {},
     "output_type": "execute_result"
    }
   ],
   "source": [
    "test0_1[(test0_1.order_id == 1735923)].shape[0]"
   ]
  },
  {
   "cell_type": "code",
   "execution_count": 15,
   "metadata": {
    "collapsed": false
   },
   "outputs": [
    {
     "data": {
      "text/plain": [
       "16"
      ]
     },
     "execution_count": 15,
     "metadata": {},
     "output_type": "execute_result"
    }
   ],
   "source": [
    "test0_0[(test0_0.order_id == 1735923)].shape[0]"
   ]
  },
  {
   "cell_type": "code",
   "execution_count": null,
   "metadata": {
    "collapsed": true
   },
   "outputs": [],
   "source": []
  }
 ],
 "metadata": {
  "kernelspec": {
   "display_name": "Python 3",
   "language": "python",
   "name": "python3"
  },
  "language_info": {
   "codemirror_mode": {
    "name": "ipython",
    "version": 3
   },
   "file_extension": ".py",
   "mimetype": "text/x-python",
   "name": "python",
   "nbconvert_exporter": "python",
   "pygments_lexer": "ipython3",
   "version": "3.6.0"
  }
 },
 "nbformat": 4,
 "nbformat_minor": 2
}
