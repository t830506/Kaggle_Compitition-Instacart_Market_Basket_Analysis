{
 "cells": [
  {
   "cell_type": "code",
   "execution_count": 1,
   "metadata": {
    "collapsed": false
   },
   "outputs": [
    {
     "name": "stdout",
     "output_type": "stream",
     "text": [
      "import data\n",
      "merge orders and order_products__prior\n",
      "size of prd features : 5\n",
      "size of users features : 13\n",
      "nb of usersXproducts features : 13\n",
      "merge prod, user and usersXprod feature on usersXprod\n",
      "order row 2000000\n",
      "order row 4000000\n",
      "order row 6000000\n",
      "order row 8000000\n",
      "order row 10000000\n",
      "order row 12000000\n"
     ]
    }
   ],
   "source": [
    "%run preprocessing.py"
   ]
  },
  {
   "cell_type": "code",
   "execution_count": 15,
   "metadata": {
    "collapsed": false
   },
   "outputs": [],
   "source": [
    "import matplotlib.pyplot as plt\n",
    "\n",
    "from sklearn.preprocessing import MinMaxScaler, StandardScaler\n",
    "from sklearn.model_selection import train_test_split, cross_val_score\n",
    "from sklearn.metrics import accuracy_score, confusion_matrix\n",
    "\n",
    "from keras.utils import np_utils\n",
    "from keras.models import Sequential\n",
    "from keras.layers.core import Dense, Dropout, Activation\n",
    "from keras.optimizers import  Adam\n"
   ]
  },
  {
   "cell_type": "code",
   "execution_count": 3,
   "metadata": {
    "collapsed": false
   },
   "outputs": [
    {
     "name": "stdout",
     "output_type": "stream",
     "text": [
      "size of training set : 8474661\n",
      "size of testing set : 4833292\n"
     ]
    }
   ],
   "source": [
    "train0 = usersXprod[(usersXprod.eval_set == \"train\")]\n",
    "train = train0.drop([\"eval_set\", \"user_id\", \"product_id\", \"order_id\"], axis=1)\n",
    "\n",
    "test0 = usersXprod[(usersXprod.eval_set == \"test\")]\n",
    "test = test0.drop([\"eval_set\", \"user_id\", \"product_id\", \"order_id\", \"reordered\"], axis=1)\n",
    "\n",
    "del usersXprod\n",
    "print(\"size of training set :\", train.shape[0])\n",
    "print(\"size of testing set  :\", test.shape[0])\n"
   ]
  },
  {
   "cell_type": "code",
   "execution_count": 4,
   "metadata": {
    "collapsed": false
   },
   "outputs": [
    {
     "name": "stdout",
     "output_type": "stream",
     "text": [
      "Size of features of dataset : 27\n",
      "Class weight of 0 : 0.9021997458069414\n",
      "Class weight of 1 : 0.09780025419305857\n"
     ]
    }
   ],
   "source": [
    "X = train.drop([\"reordered\"], axis = 1)\n",
    "y = train[[\"reordered\"]]\n",
    "\n",
    "class_weight_0 = (y.shape[0] - np.sum(y.reordered)) / y.shape[0]\n",
    "class_weight_1 = np.sum(y.reordered) / y.shape[0]\n",
    "\n",
    "print(\"Size of features of dataset :\", X.shape[1])\n",
    "print(\"Class weight of 0 :\", class_weight_0)\n",
    "print(\"Class weight of 1 :\", class_weight_1)"
   ]
  },
  {
   "cell_type": "code",
   "execution_count": 14,
   "metadata": {
    "collapsed": false
   },
   "outputs": [
    {
     "name": "stdout",
     "output_type": "stream",
     "text": [
      "Shape of X : (7627086, 27)\n",
      "Shape of Y : (7627086, 2)\n"
     ]
    }
   ],
   "source": [
    "X_train = np.array(X[(X.index % 10 != 0)])\n",
    "X_val = np.array(X[(X.index % 10 == 0)])\n",
    "y_train = y[(y.index % 10 != 0)]\n",
    "y_val = y[(y.index % 10 == 0)]\n",
    "\n",
    "y_train = np_utils.to_categorical(y_train, 2)\n",
    "y_val = np_utils.to_categorical(y_val, 2)\n",
    "\n",
    "print(\"Shape of X :\", X_train.shape)\n",
    "print(\"Shape of Y :\", y_train.shape)\n"
   ]
  },
  {
   "cell_type": "code",
   "execution_count": 16,
   "metadata": {
    "collapsed": false
   },
   "outputs": [
    {
     "name": "stdout",
     "output_type": "stream",
     "text": [
      "Building a model with dropout = 0.4\n",
      "_________________________________________________________________\n",
      "Layer (type)                 Output Shape              Param #   \n",
      "=================================================================\n",
      "dense_1 (Dense)              (None, 256)               7168      \n",
      "_________________________________________________________________\n",
      "activation_1 (Activation)    (None, 256)               0         \n",
      "_________________________________________________________________\n",
      "dropout_1 (Dropout)          (None, 256)               0         \n",
      "_________________________________________________________________\n",
      "dense_2 (Dense)              (None, 512)               131584    \n",
      "_________________________________________________________________\n",
      "activation_2 (Activation)    (None, 512)               0         \n",
      "_________________________________________________________________\n",
      "dropout_2 (Dropout)          (None, 512)               0         \n",
      "_________________________________________________________________\n",
      "dense_3 (Dense)              (None, 256)               131328    \n",
      "_________________________________________________________________\n",
      "activation_3 (Activation)    (None, 256)               0         \n",
      "_________________________________________________________________\n",
      "dropout_3 (Dropout)          (None, 256)               0         \n",
      "_________________________________________________________________\n",
      "dense_4 (Dense)              (None, 2)                 514       \n",
      "_________________________________________________________________\n",
      "activation_4 (Activation)    (None, 2)                 0         \n",
      "=================================================================\n",
      "Total params: 270,594\n",
      "Trainable params: 270,594\n",
      "Non-trainable params: 0\n",
      "_________________________________________________________________\n"
     ]
    }
   ],
   "source": [
    "''' set the size of mini-batch and number of epochs'''\n",
    "batch_size = 128\n",
    "nb_epoch = 2\n",
    "\n",
    "print ('Building a model with dropout = 0.4')\n",
    "model = Sequential()\n",
    "model.add(Dense(256, input_dim = X_train.shape[1]))\n",
    "model.add(Activation('softplus'))\n",
    "model.add(Dropout(0.4))\n",
    "model.add(Dense(512))\n",
    "model.add(Activation('softplus'))\n",
    "model.add(Dropout(0.4))\n",
    "model.add(Dense(256))\n",
    "model.add(Activation('softplus'))\n",
    "model.add(Dropout(0.4))\n",
    "model.add(Dense(y_train.shape[1]))\n",
    "model.add(Activation('softmax'))\n",
    "\n",
    "''' Setting optimizer as Adam '''\n",
    "model.compile(loss = 'categorical_crossentropy',\n",
    "              optimizer = 'Adam',\n",
    "              metrics = ['accuracy'])\n",
    "model.summary()"
   ]
  },
  {
   "cell_type": "code",
   "execution_count": 18,
   "metadata": {
    "collapsed": false
   },
   "outputs": [
    {
     "name": "stdout",
     "output_type": "stream",
     "text": [
      "Train on 7627086 samples, validate on 847575 samples\n",
      "Epoch 1/2\n",
      "689s - loss: 0.1542 - acc: 0.9022 - val_loss: 1.5706 - val_acc: 0.9026\n",
      "Epoch 2/2\n",
      "688s - loss: 0.1542 - acc: 0.9022 - val_loss: 1.5706 - val_acc: 0.9026\n"
     ]
    },
    {
     "data": {
      "image/png": "[encoded data removed]",
      "text/plain": [
       "<matplotlib.figure.Figure at 0x10cc9cda0>"
      ]
     },
     "metadata": {},
     "output_type": "display_data"
    }
   ],
   "source": [
    "'''Fit models and use validation_split=0.1 '''\n",
    "history_adam = model.fit(X_train, y_train,\n",
    "                         batch_size = batch_size,\n",
    "                         nb_epoch = nb_epoch,\n",
    "                         verbose = 2,\n",
    "                         shuffle = True,\n",
    "                         validation_data = (X_val, y_val),\n",
    "                         class_weight = {1: class_weight_1, 0: class_weight_0})\n",
    "loss_adam= history_adam.history.get('loss')\n",
    "acc_adam = history_adam.history.get('acc')\n",
    "val_loss_adam = history_adam.history.get('val_loss')\n",
    "val_acc_adam = history_adam.history.get('val_acc')\n",
    "\n",
    "''' Visualize the loss and accuracy of both models'''\n",
    "plt.figure(0)\n",
    "plt.subplot(121)\n",
    "plt.plot(range(len(loss_adam)), loss_adam, label = 'Training')\n",
    "plt.plot(range(len(val_loss_adam)), val_loss_adam, label = 'Validation')\n",
    "plt.title('Loss')\n",
    "plt.legend(loc='upper left')\n",
    "plt.subplot(122)\n",
    "plt.plot(range(len(acc_adam)), acc_adam,label = 'Training')\n",
    "plt.plot(range(len(val_acc_adam)), val_acc_adam,label = 'Validation')\n",
    "plt.title('Accuracy')\n",
    "plt.show()\n"
   ]
  },
  {
   "cell_type": "code",
   "execution_count": 20,
   "metadata": {
    "collapsed": false
   },
   "outputs": [
    {
     "name": "stdout",
     "output_type": "stream",
     "text": [
      "Misclassified samples: 82592\n",
      "Accuracy : 0.90\n",
      "Accuracy (sklearn): 0.90\n",
      "==confusion matrix==\n",
      "[[     0  82592]\n",
      " [     0 764983]]\n"
     ]
    }
   ],
   "source": [
    "y_pred = model.predict(X_val, batch_size = 128, verbose = 0)\n",
    "y_pred = pd.DataFrame(y_pred, columns = [\"no\", \"yes\"])\n",
    "y_val = pd.DataFrame(y_val, columns = [\"no\", \"yes\"])\n",
    "print('Misclassified samples: %d' % (y_val.no != y_pred.no).sum())\n",
    "print('Accuracy : %.2f' % ((y_val.no == y_pred.no).sum() / y_val.no.shape[0]))\n",
    "print('Accuracy (sklearn): %.2f' % accuracy_score(y_val.no, y_pred.no))\n",
    "print(\"==confusion matrix==\")\n",
    "print(confusion_matrix(y_val.no, y_pred.no, labels = [0,1], sample_weight = None))\n"
   ]
  },
  {
   "cell_type": "code",
   "execution_count": null,
   "metadata": {
    "collapsed": true
   },
   "outputs": [],
   "source": []
  }
 ],
 "metadata": {
  "kernelspec": {
   "display_name": "Python 3",
   "language": "python",
   "name": "python3"
  },
  "language_info": {
   "codemirror_mode": {
    "name": "ipython",
    "version": 3
   },
   "file_extension": ".py",
   "mimetype": "text/x-python",
   "name": "python",
   "nbconvert_exporter": "python",
   "pygments_lexer": "ipython3",
   "version": "3.6.0"
  }
 },
 "nbformat": 4,
 "nbformat_minor": 2
}
