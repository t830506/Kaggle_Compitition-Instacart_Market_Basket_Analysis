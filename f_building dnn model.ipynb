{
 "cells": [
  {
   "cell_type": "code",
   "execution_count": 1,
   "metadata": {
    "collapsed": false
   },
   "outputs": [
    {
     "name": "stdout",
     "output_type": "stream",
     "text": [
      "Size of product : 49688\n",
      "size of training set : 8474661\n",
      "size of testing set : 4833292\n",
      "Size of features of dataset : 32\n",
      "0.0000    7645837\n",
      "1.0000     828824\n",
      "Name: reordered, dtype: int64\n",
      "Class weight of 0 : 0.9021997458069414\n",
      "Class weight of 1 : 0.09780025419305857\n"
     ]
    }
   ],
   "source": [
    "%run preprocessing.py"
   ]
  },
  {
   "cell_type": "code",
   "execution_count": null,
   "metadata": {
    "collapsed": true
   },
   "outputs": [],
   "source": [
    "train0 = usersXprod[(usersXprod.eval_set == \"train\")]\n",
    "train = train0.drop([\"eval_set\", \"user_id\", \"product_id\", \"order_id\"], axis=1)\n",
    "\n",
    "test0 = usersXprod[(usersXprod.eval_set == \"test\")]\n",
    "test = test0.drop([\"eval_set\", \"user_id\", \"product_id\", \"order_id\", \"reordered\"], axis=1)\n",
    "\n",
    "del usersXprod\n",
    "print(\"size of training set :\", train.shape[0])\n",
    "print(\"size of testing set :\", test.shape[0])\n"
   ]
  },
  {
   "cell_type": "code",
   "execution_count": null,
   "metadata": {
    "collapsed": true
   },
   "outputs": [],
   "source": [
    "X = train.drop([\"reordered\"], axis = 1)\n",
    "y = train[[\"reordered\"]]\n",
    "\n",
    "class_weight_0 = (y.shape[0] - np.sum(y.reordered)) / y.shape[0]\n",
    "class_weight_1 = np.sum(y.reordered) / y.shape[0]\n",
    "\n",
    "print(\"Size of features of dataset :\", X.shape[1])\n",
    "print(\"Class weight of 0 :\", class_weight_0)\n",
    "print(\"Class weight of 1 :\", class_weight_1)"
   ]
  },
  {
   "cell_type": "code",
   "execution_count": 2,
   "metadata": {
    "collapsed": false
   },
   "outputs": [
    {
     "name": "stderr",
     "output_type": "stream",
     "text": [
      "/Users/Shawn/anaconda/lib/python3.6/site-packages/sklearn/cross_validation.py:44: DeprecationWarning: This module was deprecated in version 0.18 in favor of the model_selection module into which all the refactored classes and functions are moved. Also note that the interface of the new CV iterators are different from that of this module. This module will be removed in 0.20.\n",
      "  \"This module will be removed in 0.20.\", DeprecationWarning)\n"
     ]
    }
   ],
   "source": [
    "from sklearn.preprocessing import MinMaxScaler\n",
    "from sklearn.preprocessing import StandardScaler\n",
    "from sklearn.model_selection import train_test_split\n",
    "from sklearn.cross_validation import cross_val_score\n",
    "from sklearn.metrics import accuracy_score\n",
    "from sklearn.metrics import confusion_matrix\n"
   ]
  },
  {
   "cell_type": "code",
   "execution_count": 3,
   "metadata": {
    "collapsed": false
   },
   "outputs": [
    {
     "name": "stderr",
     "output_type": "stream",
     "text": [
      "Using TensorFlow backend.\n"
     ]
    },
    {
     "name": "stdout",
     "output_type": "stream",
     "text": [
      "Shape of X : (6779728, 32)\n",
      "Shape of Y : (6779728, 2)\n"
     ]
    }
   ],
   "source": [
    "from keras.utils import np_utils\n",
    "Y = np_utils.to_categorical(y, 2)\n",
    "\n",
    "X_train, X_val, y_train, y_val = train_test_split(np.array(X), Y, test_size = 0.2, random_state = 0)\n",
    "print(\"Shape of X :\", X_train.shape)\n",
    "print(\"Shape of Y :\", y_train.shape)"
   ]
  },
  {
   "cell_type": "code",
   "execution_count": 4,
   "metadata": {
    "collapsed": false
   },
   "outputs": [
    {
     "name": "stdout",
     "output_type": "stream",
     "text": [
      "Building a model with dropout = 0.4\n",
      "_________________________________________________________________\n",
      "Layer (type)                 Output Shape              Param #   \n",
      "=================================================================\n",
      "dense_1 (Dense)              (None, 128)               4224      \n",
      "_________________________________________________________________\n",
      "activation_1 (Activation)    (None, 128)               0         \n",
      "_________________________________________________________________\n",
      "dropout_1 (Dropout)          (None, 128)               0         \n",
      "_________________________________________________________________\n",
      "dense_2 (Dense)              (None, 256)               33024     \n",
      "_________________________________________________________________\n",
      "activation_2 (Activation)    (None, 256)               0         \n",
      "_________________________________________________________________\n",
      "dropout_2 (Dropout)          (None, 256)               0         \n",
      "_________________________________________________________________\n",
      "dense_3 (Dense)              (None, 2)                 514       \n",
      "_________________________________________________________________\n",
      "activation_3 (Activation)    (None, 2)                 0         \n",
      "=================================================================\n",
      "Total params: 37,762\n",
      "Trainable params: 37,762\n",
      "Non-trainable params: 0\n",
      "_________________________________________________________________\n"
     ]
    }
   ],
   "source": [
    "''' set the size of mini-batch and number of epochs'''\n",
    "batch_size = 32\n",
    "nb_epoch = 2\n",
    "\n",
    "''' Import keras to build a DL model '''\n",
    "from keras.models import Sequential\n",
    "from keras.layers.core import Dense, Dropout, Activation\n",
    "\n",
    "print ('Building a model with dropout = 0.4')\n",
    "model = Sequential()\n",
    "model.add(Dense(128, input_dim = X_train.shape[1]))\n",
    "model.add(Activation('softplus'))\n",
    "model.add(Dropout(0.4))\n",
    "model.add(Dense(256))\n",
    "model.add(Activation('softplus'))\n",
    "model.add(Dropout(0.4))\n",
    "model.add(Dense(y_train.shape[1]))\n",
    "model.add(Activation('softmax'))\n",
    "\n",
    "''' Setting optimizer as Adam '''\n",
    "from keras.optimizers import  Adam\n",
    "model.compile(loss = 'categorical_crossentropy',\n",
    "              optimizer = 'Adam',\n",
    "              metrics = ['accuracy'])\n",
    "model.summary()"
   ]
  },
  {
   "cell_type": "code",
   "execution_count": 5,
   "metadata": {
    "collapsed": false
   },
   "outputs": [
    {
     "data": {
      "image/png": "[encoded data removed]",
      "text/plain": [
       "<matplotlib.figure.Figure at 0x18b969d68>"
      ]
     },
     "metadata": {},
     "output_type": "display_data"
    }
   ],
   "source": [
    "'''Fit models and use validation_split=0.1 '''\n",
    "history_adam = model.fit(X_train, y_train,\n",
    "                         batch_size = batch_size,\n",
    "                         nb_epoch = nb_epoch,\n",
    "                         verbose = 0,\n",
    "                         shuffle = True,\n",
    "                         validation_split = 0.1,\n",
    "                         class_weight = {1: class_weight_1, 0: class_weight_0})\n",
    "\n",
    "loss_adam= history_adam.history.get('loss')\n",
    "acc_adam = history_adam.history.get('acc')\n",
    "val_loss_adam = history_adam.history.get('val_loss')\n",
    "val_acc_adam = history_adam.history.get('val_acc')\n",
    "\n",
    "''' Visualize the loss and accuracy of both models'''\n",
    "import matplotlib.pyplot as plt\n",
    "plt.figure(0)\n",
    "plt.subplot(121)\n",
    "plt.plot(range(len(loss_adam)), loss_adam, label = 'Training')\n",
    "plt.plot(range(len(val_loss_adam)), val_loss_adam, label = 'Validation')\n",
    "plt.title('Loss')\n",
    "plt.legend(loc='upper left')\n",
    "plt.subplot(122)\n",
    "plt.plot(range(len(acc_adam)), acc_adam,label = 'Training')\n",
    "plt.plot(range(len(val_acc_adam)), val_acc_adam,label = 'Validation')\n",
    "plt.title('Accuracy')\n",
    "plt.show()"
   ]
  },
  {
   "cell_type": "code",
   "execution_count": 6,
   "metadata": {
    "collapsed": false
   },
   "outputs": [
    {
     "name": "stdout",
     "output_type": "stream",
     "text": [
      "Misclassified samples: 165804\n",
      "Accuracy : 0.90\n",
      "Accuracy (sklearn): 0.90\n",
      "==confusion matrix==\n",
      "[[      0  165804]\n",
      " [      0 1529129]]\n"
     ]
    }
   ],
   "source": [
    "y_pred = model.predict(X_val, batch_size = 32, verbose = 0)\n",
    "y_pred = pd.DataFrame(y_pred, columns = [\"no\", \"yes\"])\n",
    "y_val = pd.DataFrame(y_val, columns = [\"no\", \"yes\"])\n",
    "print('Misclassified samples: %d' % (y_val.no != y_pred.no).sum())\n",
    "print('Accuracy : %.2f' % ((y_val.no == y_pred.no).sum() / y_val.no.shape[0]))\n",
    "print('Accuracy (sklearn): %.2f' % accuracy_score(y_val.no, y_pred.no))\n",
    "print(\"==confusion matrix==\")\n",
    "print(confusion_matrix(y_val.no, y_pred.no, labels = [0,1], sample_weight = None))\n"
   ]
  }
 ],
 "metadata": {
  "kernelspec": {
   "display_name": "Python 3",
   "language": "python",
   "name": "python3"
  },
  "language_info": {
   "codemirror_mode": {
    "name": "ipython",
    "version": 3
   },
   "file_extension": ".py",
   "mimetype": "text/x-python",
   "name": "python",
   "nbconvert_exporter": "python",
   "pygments_lexer": "ipython3",
   "version": "3.6.0"
  }
 },
 "nbformat": 4,
 "nbformat_minor": 2
}
