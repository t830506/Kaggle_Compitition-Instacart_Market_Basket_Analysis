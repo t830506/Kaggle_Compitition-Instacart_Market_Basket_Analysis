{
 "cells": [
  {
   "cell_type": "code",
   "execution_count": 1,
   "metadata": {
    "collapsed": true
   },
   "outputs": [],
   "source": [
    "import numpy as np\n",
    "import pandas as pd\n",
    "from matplotlib import pyplot as plt\n",
    "\n",
    "import warnings\n",
    "warnings.filterwarnings('ignore')\n",
    "\n",
    "pd.set_option('display.float_format', lambda x: '%.4f' % x)\n"
   ]
  },
  {
   "cell_type": "markdown",
   "metadata": {},
   "source": [
    "## Feature Extraction"
   ]
  },
  {
   "cell_type": "code",
   "execution_count": 2,
   "metadata": {
    "collapsed": false
   },
   "outputs": [
    {
     "name": "stdout",
     "output_type": "stream",
     "text": [
      "import data\n"
     ]
    }
   ],
   "source": [
    "print(\"import data\")\n",
    "ordert = pd.read_csv('order_products__train.csv')\n",
    "orderp = pd.read_csv('order_products__prior.csv')\n",
    "\n",
    "orders = pd.read_csv('orders.csv')\n",
    "orders = orders.fillna(value=0)\n",
    "\n",
    "products = pd.read_csv('products.csv')\n",
    "aisles = pd.read_csv('aisles.csv')\n",
    "departments = pd.read_csv('departments.csv')\n"
   ]
  },
  {
   "cell_type": "code",
   "execution_count": 3,
   "metadata": {
    "collapsed": false
   },
   "outputs": [
    {
     "name": "stdout",
     "output_type": "stream",
     "text": [
      "merge orders and order_products__train\n"
     ]
    }
   ],
   "source": [
    "print(\"merge orders and order_products__train\") \n",
    "ordert = pd.merge(ordert, orders, how='left', on=['order_id'])\n"
   ]
  },
  {
   "cell_type": "code",
   "execution_count": 4,
   "metadata": {
    "collapsed": false
   },
   "outputs": [
    {
     "name": "stdout",
     "output_type": "stream",
     "text": [
      "merge orders and order_products__prior\n"
     ]
    },
    {
     "data": {
      "text/html": [
       "<div>\n",
       "<table border=\"1\" class=\"dataframe\">\n",
       "  <thead>\n",
       "    <tr style=\"text-align: right;\">\n",
       "      <th></th>\n",
       "      <th>order_id</th>\n",
       "      <th>product_id</th>\n",
       "      <th>add_to_cart_order</th>\n",
       "      <th>reordered</th>\n",
       "      <th>user_id</th>\n",
       "      <th>eval_set</th>\n",
       "      <th>order_number</th>\n",
       "      <th>order_dow</th>\n",
       "      <th>order_hour_of_day</th>\n",
       "      <th>days_since_prior_order</th>\n",
       "    </tr>\n",
       "  </thead>\n",
       "  <tbody>\n",
       "    <tr>\n",
       "      <th>0</th>\n",
       "      <td>2</td>\n",
       "      <td>33120</td>\n",
       "      <td>1</td>\n",
       "      <td>1</td>\n",
       "      <td>202279</td>\n",
       "      <td>prior</td>\n",
       "      <td>3</td>\n",
       "      <td>5</td>\n",
       "      <td>9</td>\n",
       "      <td>8.0000</td>\n",
       "    </tr>\n",
       "    <tr>\n",
       "      <th>1</th>\n",
       "      <td>2</td>\n",
       "      <td>28985</td>\n",
       "      <td>2</td>\n",
       "      <td>1</td>\n",
       "      <td>202279</td>\n",
       "      <td>prior</td>\n",
       "      <td>3</td>\n",
       "      <td>5</td>\n",
       "      <td>9</td>\n",
       "      <td>8.0000</td>\n",
       "    </tr>\n",
       "    <tr>\n",
       "      <th>2</th>\n",
       "      <td>2</td>\n",
       "      <td>9327</td>\n",
       "      <td>3</td>\n",
       "      <td>0</td>\n",
       "      <td>202279</td>\n",
       "      <td>prior</td>\n",
       "      <td>3</td>\n",
       "      <td>5</td>\n",
       "      <td>9</td>\n",
       "      <td>8.0000</td>\n",
       "    </tr>\n",
       "    <tr>\n",
       "      <th>3</th>\n",
       "      <td>2</td>\n",
       "      <td>45918</td>\n",
       "      <td>4</td>\n",
       "      <td>1</td>\n",
       "      <td>202279</td>\n",
       "      <td>prior</td>\n",
       "      <td>3</td>\n",
       "      <td>5</td>\n",
       "      <td>9</td>\n",
       "      <td>8.0000</td>\n",
       "    </tr>\n",
       "    <tr>\n",
       "      <th>4</th>\n",
       "      <td>2</td>\n",
       "      <td>30035</td>\n",
       "      <td>5</td>\n",
       "      <td>0</td>\n",
       "      <td>202279</td>\n",
       "      <td>prior</td>\n",
       "      <td>3</td>\n",
       "      <td>5</td>\n",
       "      <td>9</td>\n",
       "      <td>8.0000</td>\n",
       "    </tr>\n",
       "  </tbody>\n",
       "</table>\n",
       "</div>"
      ],
      "text/plain": [
       "   order_id  product_id  add_to_cart_order  reordered  user_id eval_set  \\\n",
       "0         2       33120                  1          1   202279    prior   \n",
       "1         2       28985                  2          1   202279    prior   \n",
       "2         2        9327                  3          0   202279    prior   \n",
       "3         2       45918                  4          1   202279    prior   \n",
       "4         2       30035                  5          0   202279    prior   \n",
       "\n",
       "   order_number  order_dow  order_hour_of_day  days_since_prior_order  \n",
       "0             3          5                  9                  8.0000  \n",
       "1             3          5                  9                  8.0000  \n",
       "2             3          5                  9                  8.0000  \n",
       "3             3          5                  9                  8.0000  \n",
       "4             3          5                  9                  8.0000  "
      ]
     },
     "execution_count": 4,
     "metadata": {},
     "output_type": "execute_result"
    }
   ],
   "source": [
    "print(\"merge orders and order_products__prior\") \n",
    "orders_products = pd.merge(orderp, orders, how='left', on=['order_id'])\n",
    "\n",
    "del orderp\n",
    "orders_products.head()"
   ]
  },
  {
   "cell_type": "code",
   "execution_count": 5,
   "metadata": {
    "collapsed": false
   },
   "outputs": [
    {
     "name": "stdout",
     "output_type": "stream",
     "text": [
      "days_since_prior_order of user_product preprocessing\n"
     ]
    },
    {
     "data": {
      "text/html": [
       "<div>\n",
       "<table border=\"1\" class=\"dataframe\">\n",
       "  <thead>\n",
       "    <tr style=\"text-align: right;\">\n",
       "      <th></th>\n",
       "      <th>user_id</th>\n",
       "      <th>product_id</th>\n",
       "      <th>up_mean_days_since_prior_order</th>\n",
       "      <th>up_var_days_since_prior_order</th>\n",
       "      <th>up_last_order</th>\n",
       "      <th>up_nb_order</th>\n",
       "      <th>days_since_prior_order</th>\n",
       "      <th>user_product</th>\n",
       "    </tr>\n",
       "  </thead>\n",
       "  <tbody>\n",
       "    <tr>\n",
       "      <th>0</th>\n",
       "      <td>1</td>\n",
       "      <td>196</td>\n",
       "      <td>17.6000</td>\n",
       "      <td>10.8033</td>\n",
       "      <td>10</td>\n",
       "      <td>11</td>\n",
       "      <td>[0.0, 15.0, 21.0, 29.0, 28.0, 19.0, 20.0, 14.0...</td>\n",
       "      <td>100196</td>\n",
       "    </tr>\n",
       "    <tr>\n",
       "      <th>1</th>\n",
       "      <td>1</td>\n",
       "      <td>10258</td>\n",
       "      <td>19.5556</td>\n",
       "      <td>9.3956</td>\n",
       "      <td>10</td>\n",
       "      <td>11</td>\n",
       "      <td>[0.0, 15.0, 21.0, 29.0, 28.0, 19.0, 20.0, 14.0...</td>\n",
       "      <td>110258</td>\n",
       "    </tr>\n",
       "    <tr>\n",
       "      <th>2</th>\n",
       "      <td>1</td>\n",
       "      <td>10326</td>\n",
       "      <td>28.0000</td>\n",
       "      <td>0.0000</td>\n",
       "      <td>5</td>\n",
       "      <td>11</td>\n",
       "      <td>[0.0, 15.0, 21.0, 29.0, 28.0, 19.0, 20.0, 14.0...</td>\n",
       "      <td>110326</td>\n",
       "    </tr>\n",
       "    <tr>\n",
       "      <th>3</th>\n",
       "      <td>1</td>\n",
       "      <td>12427</td>\n",
       "      <td>17.6000</td>\n",
       "      <td>10.8033</td>\n",
       "      <td>10</td>\n",
       "      <td>11</td>\n",
       "      <td>[0.0, 15.0, 21.0, 29.0, 28.0, 19.0, 20.0, 14.0...</td>\n",
       "      <td>112427</td>\n",
       "    </tr>\n",
       "    <tr>\n",
       "      <th>4</th>\n",
       "      <td>1</td>\n",
       "      <td>13032</td>\n",
       "      <td>21.6667</td>\n",
       "      <td>7.6376</td>\n",
       "      <td>10</td>\n",
       "      <td>11</td>\n",
       "      <td>[0.0, 15.0, 21.0, 29.0, 28.0, 19.0, 20.0, 14.0...</td>\n",
       "      <td>113032</td>\n",
       "    </tr>\n",
       "  </tbody>\n",
       "</table>\n",
       "</div>"
      ],
      "text/plain": [
       "   user_id  product_id  up_mean_days_since_prior_order  \\\n",
       "0        1         196                         17.6000   \n",
       "1        1       10258                         19.5556   \n",
       "2        1       10326                         28.0000   \n",
       "3        1       12427                         17.6000   \n",
       "4        1       13032                         21.6667   \n",
       "\n",
       "   up_var_days_since_prior_order  up_last_order  up_nb_order  \\\n",
       "0                        10.8033             10           11   \n",
       "1                         9.3956             10           11   \n",
       "2                         0.0000              5           11   \n",
       "3                        10.8033             10           11   \n",
       "4                         7.6376             10           11   \n",
       "\n",
       "                              days_since_prior_order  user_product  \n",
       "0  [0.0, 15.0, 21.0, 29.0, 28.0, 19.0, 20.0, 14.0...        100196  \n",
       "1  [0.0, 15.0, 21.0, 29.0, 28.0, 19.0, 20.0, 14.0...        110258  \n",
       "2  [0.0, 15.0, 21.0, 29.0, 28.0, 19.0, 20.0, 14.0...        110326  \n",
       "3  [0.0, 15.0, 21.0, 29.0, 28.0, 19.0, 20.0, 14.0...        112427  \n",
       "4  [0.0, 15.0, 21.0, 29.0, 28.0, 19.0, 20.0, 14.0...        113032  "
      ]
     },
     "execution_count": 5,
     "metadata": {},
     "output_type": "execute_result"
    }
   ],
   "source": [
    "# 整理 prior 中 user_product 前一次出現的資訊(mean, std)\n",
    "# 因為變異數算法為(n-1)為分母，所以填入0，\n",
    "# 將train和test的購買距離前一次 user_product 的天數取出\n",
    "# 將train中，組合是否reordered填入(train中，第一次出現的組合就先不理了)\n",
    "\n",
    "print(\"days_since_prior_order of user_product preprocessing\")\n",
    "\n",
    "f = {'days_since_prior_order' : ['mean', 'std'], \n",
    "     'order_number':['max']} #lsat_order\n",
    "usersXprod0 = orders_products.groupby([\"user_id\", \"product_id\"]).aggregate(f).reset_index()\n",
    "usersXprod0.columns = [\"user_id\", \"product_id\",\n",
    "                      'up_mean_days_since_prior_order','up_var_days_since_prior_order',\n",
    "                      \"up_last_order\"] \n",
    "usersXprod0 = usersXprod0.fillna(value = 0)\n",
    "\n",
    "f = {'order_number' : ['max']}\n",
    "g1 = orders_products.groupby([\"user_id\"]).aggregate(f).reset_index()\n",
    "g1.columns = [\"user_id\", \"up_nb_order\"]\n",
    "g1[\"up_nb_order\"] = g1.up_nb_order + 1 #user_total_order\n",
    "usersXprod0 = pd.merge(usersXprod0, g1, how='left', on=[\"user_id\"])\n",
    "del g1\n",
    "\n",
    "f = lambda x: np.array_split(list(x), 1)[0]\n",
    "g = orders.groupby('user_id')[\"days_since_prior_order\"].apply(f).reset_index() #user_list_days_since_prior_order\n",
    "usersXprod0 = pd.merge(usersXprod0, g, how='left', on=[\"user_id\"])\n",
    "usersXprod0['user_product'] = usersXprod0.product_id + usersXprod0.user_id * 100000\n",
    "\n",
    "usersXprod0.head()"
   ]
  },
  {
   "cell_type": "code",
   "execution_count": 6,
   "metadata": {
    "collapsed": false
   },
   "outputs": [
    {
     "name": "stdout",
     "output_type": "stream",
     "text": [
      "order row 2000000\n",
      "order row 4000000\n",
      "order row 6000000\n",
      "order row 8000000\n",
      "order row 10000000\n",
      "order row 12000000\n"
     ]
    }
   ],
   "source": [
    "prior_order = usersXprod0[[\"up_last_order\",\"up_nb_order\",\"days_since_prior_order\",\"user_product\"]]\n",
    "\n",
    "d= dict()\n",
    "i = 0\n",
    "for i, row in enumerate(prior_order.itertuples(), 1):\n",
    "    i+=1\n",
    "    if i%2000000 == 0: print ('order row', i)    \n",
    "    z = row.user_product\n",
    "    last = int(row.up_last_order)\n",
    "    now = int(row.up_nb_order)\n",
    "    prior = sum(row.days_since_prior_order[last: now])\n",
    "    d[z] = prior\n",
    "p = pd.DataFrame.from_dict(d, orient = 'index')"
   ]
  },
  {
   "cell_type": "code",
   "execution_count": 7,
   "metadata": {
    "collapsed": false
   },
   "outputs": [
    {
     "data": {
      "text/html": [
       "<div>\n",
       "<table border=\"1\" class=\"dataframe\">\n",
       "  <thead>\n",
       "    <tr style=\"text-align: right;\">\n",
       "      <th></th>\n",
       "      <th>user_id</th>\n",
       "      <th>product_id</th>\n",
       "      <th>up_mean_days_since_prior_order</th>\n",
       "      <th>up_var_days_since_prior_order</th>\n",
       "      <th>up_days_since_prior_order</th>\n",
       "    </tr>\n",
       "  </thead>\n",
       "  <tbody>\n",
       "    <tr>\n",
       "      <th>0</th>\n",
       "      <td>1</td>\n",
       "      <td>196</td>\n",
       "      <td>17.6000</td>\n",
       "      <td>10.8033</td>\n",
       "      <td>14.0000</td>\n",
       "    </tr>\n",
       "    <tr>\n",
       "      <th>1</th>\n",
       "      <td>1</td>\n",
       "      <td>10258</td>\n",
       "      <td>19.5556</td>\n",
       "      <td>9.3956</td>\n",
       "      <td>14.0000</td>\n",
       "    </tr>\n",
       "    <tr>\n",
       "      <th>2</th>\n",
       "      <td>1</td>\n",
       "      <td>10326</td>\n",
       "      <td>28.0000</td>\n",
       "      <td>0.0000</td>\n",
       "      <td>97.0000</td>\n",
       "    </tr>\n",
       "    <tr>\n",
       "      <th>3</th>\n",
       "      <td>1</td>\n",
       "      <td>12427</td>\n",
       "      <td>17.6000</td>\n",
       "      <td>10.8033</td>\n",
       "      <td>14.0000</td>\n",
       "    </tr>\n",
       "    <tr>\n",
       "      <th>4</th>\n",
       "      <td>1</td>\n",
       "      <td>13032</td>\n",
       "      <td>21.6667</td>\n",
       "      <td>7.6376</td>\n",
       "      <td>14.0000</td>\n",
       "    </tr>\n",
       "  </tbody>\n",
       "</table>\n",
       "</div>"
      ],
      "text/plain": [
       "   user_id  product_id  up_mean_days_since_prior_order  \\\n",
       "0        1         196                         17.6000   \n",
       "1        1       10258                         19.5556   \n",
       "2        1       10326                         28.0000   \n",
       "3        1       12427                         17.6000   \n",
       "4        1       13032                         21.6667   \n",
       "\n",
       "   up_var_days_since_prior_order  up_days_since_prior_order  \n",
       "0                        10.8033                    14.0000  \n",
       "1                         9.3956                    14.0000  \n",
       "2                         0.0000                    97.0000  \n",
       "3                        10.8033                    14.0000  \n",
       "4                         7.6376                    14.0000  "
      ]
     },
     "execution_count": 7,
     "metadata": {},
     "output_type": "execute_result"
    }
   ],
   "source": [
    "p[\"user_product\"] = p.index\n",
    "p.columns = [\"up_days_since_prior_order\", \"user_product\"]\n",
    "usersXprod0 = pd.merge(usersXprod0, p, how='left', on=[\"user_product\"])\n",
    "usersXprod0 = usersXprod0.drop([\"up_last_order\",\"up_nb_order\",\"days_since_prior_order\",\"user_product\"], axis=1)\n",
    "usersXprod0.head()\n"
   ]
  },
  {
   "cell_type": "code",
   "execution_count": 8,
   "metadata": {
    "collapsed": false
   },
   "outputs": [
    {
     "name": "stdout",
     "output_type": "stream",
     "text": [
      "nb of usersXproducts features : 8\n"
     ]
    },
    {
     "data": {
      "text/html": [
       "<div>\n",
       "<table border=\"1\" class=\"dataframe\">\n",
       "  <thead>\n",
       "    <tr style=\"text-align: right;\">\n",
       "      <th></th>\n",
       "      <th>user_id</th>\n",
       "      <th>product_id</th>\n",
       "      <th>up_mean_days_since_prior_order</th>\n",
       "      <th>up_var_days_since_prior_order</th>\n",
       "      <th>up_days_since_prior_order</th>\n",
       "      <th>eval_set</th>\n",
       "      <th>order_id</th>\n",
       "      <th>reordered</th>\n",
       "    </tr>\n",
       "  </thead>\n",
       "  <tbody>\n",
       "    <tr>\n",
       "      <th>0</th>\n",
       "      <td>1</td>\n",
       "      <td>196</td>\n",
       "      <td>17.6000</td>\n",
       "      <td>10.8033</td>\n",
       "      <td>14.0000</td>\n",
       "      <td>train</td>\n",
       "      <td>1187899</td>\n",
       "      <td>1.0000</td>\n",
       "    </tr>\n",
       "    <tr>\n",
       "      <th>1</th>\n",
       "      <td>1</td>\n",
       "      <td>10258</td>\n",
       "      <td>19.5556</td>\n",
       "      <td>9.3956</td>\n",
       "      <td>14.0000</td>\n",
       "      <td>train</td>\n",
       "      <td>1187899</td>\n",
       "      <td>1.0000</td>\n",
       "    </tr>\n",
       "    <tr>\n",
       "      <th>2</th>\n",
       "      <td>1</td>\n",
       "      <td>10326</td>\n",
       "      <td>28.0000</td>\n",
       "      <td>0.0000</td>\n",
       "      <td>97.0000</td>\n",
       "      <td>train</td>\n",
       "      <td>1187899</td>\n",
       "      <td>0.0000</td>\n",
       "    </tr>\n",
       "    <tr>\n",
       "      <th>3</th>\n",
       "      <td>1</td>\n",
       "      <td>12427</td>\n",
       "      <td>17.6000</td>\n",
       "      <td>10.8033</td>\n",
       "      <td>14.0000</td>\n",
       "      <td>train</td>\n",
       "      <td>1187899</td>\n",
       "      <td>0.0000</td>\n",
       "    </tr>\n",
       "    <tr>\n",
       "      <th>4</th>\n",
       "      <td>1</td>\n",
       "      <td>13032</td>\n",
       "      <td>21.6667</td>\n",
       "      <td>7.6376</td>\n",
       "      <td>14.0000</td>\n",
       "      <td>train</td>\n",
       "      <td>1187899</td>\n",
       "      <td>1.0000</td>\n",
       "    </tr>\n",
       "  </tbody>\n",
       "</table>\n",
       "</div>"
      ],
      "text/plain": [
       "   user_id  product_id  up_mean_days_since_prior_order  \\\n",
       "0        1         196                         17.6000   \n",
       "1        1       10258                         19.5556   \n",
       "2        1       10326                         28.0000   \n",
       "3        1       12427                         17.6000   \n",
       "4        1       13032                         21.6667   \n",
       "\n",
       "   up_var_days_since_prior_order  up_days_since_prior_order eval_set  \\\n",
       "0                        10.8033                    14.0000    train   \n",
       "1                         9.3956                    14.0000    train   \n",
       "2                         0.0000                    97.0000    train   \n",
       "3                        10.8033                    14.0000    train   \n",
       "4                         7.6376                    14.0000    train   \n",
       "\n",
       "   order_id  reordered  \n",
       "0   1187899     1.0000  \n",
       "1   1187899     1.0000  \n",
       "2   1187899     0.0000  \n",
       "3   1187899     0.0000  \n",
       "4   1187899     1.0000  "
      ]
     },
     "execution_count": 8,
     "metadata": {},
     "output_type": "execute_result"
    }
   ],
   "source": [
    "orders = orders[(orders.eval_set != \"prior\")]\n",
    "orders = orders[[\"user_id\",\"eval_set\",\"order_id\"]]\n",
    "usersXprod0 = pd.merge(usersXprod0, orders, how='left', on=[\"user_id\"])\n",
    "\n",
    "ordert = ordert[[\"user_id\",\"product_id\",\"reordered\"]]\n",
    "usersXprod0 = pd.merge(usersXprod0, ordert, how='left', on=[\"user_id\", \"product_id\"])\n",
    "\n",
    "usersXprod0.reordered = usersXprod0.reordered.replace(to_replace = \"nan\", value = 0)\n",
    "\n",
    "#del ordert\n",
    "#del orders\n",
    "print(\"nb of usersXproducts features :\", usersXprod0.shape[1])\n",
    "usersXprod0.head()\n"
   ]
  },
  {
   "cell_type": "code",
   "execution_count": 9,
   "metadata": {
    "collapsed": false
   },
   "outputs": [],
   "source": [
    "# split train and test\n",
    "\n",
    "train = usersXprod0[(usersXprod0.eval_set == \"train\")]\n",
    "test = usersXprod0[(usersXprod0.eval_set == \"test\")]\n",
    "del usersXprod0\n"
   ]
  },
  {
   "cell_type": "code",
   "execution_count": 10,
   "metadata": {
    "collapsed": false
   },
   "outputs": [
    {
     "name": "stdout",
     "output_type": "stream",
     "text": [
      "Class weight of 0 : 0.9021997458069414\n",
      "Class weight of 1 : 0.09780025419305857\n"
     ]
    }
   ],
   "source": [
    "# class weighted\n",
    "y = train[[\"reordered\"]]\n",
    "\n",
    "class_weight_0 = (y.shape[0] - np.sum(y.reordered)) / y.shape[0]\n",
    "class_weight_1 = np.sum(y.reordered) / y.shape[0]\n",
    "\n",
    "print(\"Class weight of 0 :\", class_weight_0)\n",
    "print(\"Class weight of 1 :\", class_weight_1)\n"
   ]
  },
  {
   "cell_type": "markdown",
   "metadata": {},
   "source": [
    "## Model Building"
   ]
  },
  {
   "cell_type": "code",
   "execution_count": 11,
   "metadata": {
    "collapsed": false
   },
   "outputs": [
    {
     "name": "stderr",
     "output_type": "stream",
     "text": [
      "/Users/Shawn/anaconda/lib/python3.6/site-packages/sklearn/cross_validation.py:44: DeprecationWarning: This module was deprecated in version 0.18 in favor of the model_selection module into which all the refactored classes and functions are moved. Also note that the interface of the new CV iterators are different from that of this module. This module will be removed in 0.20.\n",
      "  \"This module will be removed in 0.20.\", DeprecationWarning)\n"
     ]
    }
   ],
   "source": [
    "from sklearn.preprocessing import MinMaxScaler, StandardScaler\n",
    "from sklearn.model_selection import train_test_split\n",
    "from sklearn.cross_validation import cross_val_score\n",
    "from sklearn.metrics import accuracy_score, confusion_matrix, f1_score\n",
    "\n",
    "from sklearn.linear_model import LogisticRegression\n",
    "from sklearn.tree import DecisionTreeClassifier\n",
    "from sklearn.ensemble import RandomForestClassifier, BaggingClassifier, AdaBoostClassifier, VotingClassifier\n"
   ]
  },
  {
   "cell_type": "code",
   "execution_count": 20,
   "metadata": {
    "collapsed": true
   },
   "outputs": [],
   "source": [
    "def validation(model, X_train, X_val, y_train, y_val):\n",
    "    model.fit(X_train, y_train)\n",
    "    print(str(model), \"cross_val down\")\n",
    "    y_pred = model.predict(X_val).reshape(y_val.shape[0], 1)\n",
    "    print('Misclassified samples: %d' % (y_val != y_pred).sum())\n",
    "    print('Accuracy : %.2f' % ((y_val == y_pred).sum() / y_val.shape[0]))\n",
    "    print('Accuracy (sklearn): %.2f' % accuracy_score(y_val, y_pred))\n",
    "    print(\"=== Confusion Matrix ===\")\n",
    "    print(confusion_matrix(y_val, y_pred, labels = [0,1], sample_weight = None))\n",
    "    print(\"=== F1-score ===\")\n",
    "    print(f1_score(y_val, y_pred, labels=[0,1]))\n",
    "    return y_pred \n",
    "\n",
    "### 整理過的testing dataset 去預測\n",
    "### 拿出以前的商品顧客組合去預測是否reordered    \n",
    "### 建立一個門檻值去篩選是否購買???\n",
    "### 選出指定order_id 購買的商品並匯出\n",
    "def cross_val_and_testing(df, df_test, model, threshold):\n",
    "    model.fit(train[[\"up_mean_days_since_prior_order\",\"up_var_days_since_prior_order\",\"up_days_since_prior_order\"]],\n",
    "              train[[\"reordered\"]])\n",
    "    print (\"Fitting Over\")\n",
    "    pred = pd.DataFrame(model.predict_proba(df_test), columns = [\"prob_0\", \"prob_1\"])\n",
    "    df[\"prediction\"] = pred[\"prob_1\"]\n",
    "    df = df[[\"order_id\", \"product_id\", \"prediction\"]]\n",
    "\n",
    "    con = (df.prediction >= threshold)\n",
    "    test0_0 = df[~con]\n",
    "    test0_1 = df[con]\n",
    "    print(\"Percent of test0 is 0 :\", test0_0.shape[0]/df.shape[0])\n",
    "    print(\"Percent of test0 is 1 :\", test0_1.shape[0]/df.shape[0])\n",
    "\n",
    "    f = lambda x: np.array_split(list(set(x)), 1)[0]\n",
    "    order_prod = test0_1.groupby('order_id')[\"product_id\"].apply(f).reset_index()\n",
    "    order_id = df.groupby(\"order_id\")[\"product_id\"].apply(f).reset_index()\n",
    "    submit = pd.merge(order_id[[\"order_id\"]], order_prod, how='left', on=['order_id'])\n",
    "    return submit\n"
   ]
  },
  {
   "cell_type": "code",
   "execution_count": 13,
   "metadata": {
    "collapsed": true
   },
   "outputs": [],
   "source": [
    "tree = DecisionTreeClassifier(criterion = 'entropy', \n",
    "                              max_depth = None, \n",
    "                              random_state = 0,\n",
    "                              class_weight = {1: class_weight_1, 0: class_weight_0})\n",
    "\n",
    "bc = BaggingClassifier(base_estimator = tree,  \n",
    "                       n_estimators = 10,  \n",
    "                       max_samples = 1.0,  \n",
    "                       max_features = 1.0,  \n",
    "                       bootstrap = True,  \n",
    "                       bootstrap_features = False,  \n",
    "                       oob_score = False,  \n",
    "                       warm_start = False,  \n",
    "                       n_jobs = 1,  \n",
    "                       random_state = None,  \n",
    "                       verbose = 0)\n"
   ]
  },
  {
   "cell_type": "code",
   "execution_count": 14,
   "metadata": {
    "collapsed": false
   },
   "outputs": [],
   "source": [
    "X_train, X_val, y_train, y_val = train_test_split(train.drop([\"reordered\", \"eval_set\"],axis=1),\n",
    "                                                  train[[\"reordered\"]],\n",
    "                                                  test_size = 0.1,\n",
    "                                                  random_state = 0)\n"
   ]
  },
  {
   "cell_type": "markdown",
   "metadata": {},
   "source": [
    "### fit model"
   ]
  },
  {
   "cell_type": "code",
   "execution_count": 15,
   "metadata": {
    "collapsed": false,
    "scrolled": false
   },
   "outputs": [
    {
     "name": "stdout",
     "output_type": "stream",
     "text": [
      "DecisionTreeClassifier(class_weight={1: 0.09780025419305857, 0: 0.9021997458069414},\n",
      "            criterion='entropy', max_depth=None, max_features=None,\n",
      "            max_leaf_nodes=None, min_impurity_split=1e-07,\n",
      "            min_samples_leaf=1, min_samples_split=2,\n",
      "            min_weight_fraction_leaf=0.0, presort=False, random_state=0,\n",
      "            splitter='best') cross_val down\n",
      "Misclassified samples: 92288\n",
      "Accuracy : 0.89\n",
      "Accuracy (sklearn): 0.89\n",
      "=== Confusion Matrix ===\n",
      "[[743554  20955]\n",
      " [ 71333  11625]]\n",
      "=== F1-score ===\n",
      "0.201232494937\n"
     ]
    }
   ],
   "source": [
    "col = [\"user_id\", \"product_id\", \"order_id\"]\n",
    "X_train_fit = X_train.drop(col, axis=1)\n",
    "X_val_fit = X_val.drop(col, axis=1)\n",
    "\n",
    "y_pred = validation(tree, X_train_fit, X_val_fit, y_train, y_val)\n"
   ]
  },
  {
   "cell_type": "code",
   "execution_count": 16,
   "metadata": {
    "collapsed": false
   },
   "outputs": [
    {
     "data": {
      "image/png": "[encoded data removed]",
      "text/plain": [
       "<matplotlib.figure.Figure at 0x11acc3710>"
      ]
     },
     "metadata": {},
     "output_type": "display_data"
    }
   ],
   "source": [
    "imp = pd.DataFrame(data = tree.feature_importances_,\n",
    "                   index = X_val_fit.columns,\n",
    "                   columns = [\"important\"])\n",
    "imp.plot.bar(alpha=0.5)\n",
    "plt.show()"
   ]
  },
  {
   "cell_type": "code",
   "execution_count": 17,
   "metadata": {
    "collapsed": false
   },
   "outputs": [
    {
     "name": "stdout",
     "output_type": "stream",
     "text": [
      "(847467, 9)\n"
     ]
    },
    {
     "data": {
      "text/html": [
       "<div>\n",
       "<table border=\"1\" class=\"dataframe\">\n",
       "  <thead>\n",
       "    <tr style=\"text-align: right;\">\n",
       "      <th></th>\n",
       "      <th>user_id</th>\n",
       "      <th>product_id</th>\n",
       "      <th>up_mean_days_since_prior_order</th>\n",
       "      <th>up_var_days_since_prior_order</th>\n",
       "      <th>up_days_since_prior_order</th>\n",
       "      <th>order_id</th>\n",
       "      <th>reordered</th>\n",
       "      <th>pred</th>\n",
       "      <th>correct</th>\n",
       "    </tr>\n",
       "  </thead>\n",
       "  <tbody>\n",
       "    <tr>\n",
       "      <th>0</th>\n",
       "      <td>51783</td>\n",
       "      <td>47120</td>\n",
       "      <td>13.0000</td>\n",
       "      <td>0.0000</td>\n",
       "      <td>267.0000</td>\n",
       "      <td>365144</td>\n",
       "      <td>0.0000</td>\n",
       "      <td>0.0000</td>\n",
       "      <td>True</td>\n",
       "    </tr>\n",
       "    <tr>\n",
       "      <th>1</th>\n",
       "      <td>165860</td>\n",
       "      <td>13984</td>\n",
       "      <td>3.0000</td>\n",
       "      <td>0.0000</td>\n",
       "      <td>232.0000</td>\n",
       "      <td>352644</td>\n",
       "      <td>0.0000</td>\n",
       "      <td>0.0000</td>\n",
       "      <td>True</td>\n",
       "    </tr>\n",
       "    <tr>\n",
       "      <th>2</th>\n",
       "      <td>134148</td>\n",
       "      <td>29660</td>\n",
       "      <td>8.0000</td>\n",
       "      <td>0.0000</td>\n",
       "      <td>20.0000</td>\n",
       "      <td>1345617</td>\n",
       "      <td>1.0000</td>\n",
       "      <td>0.0000</td>\n",
       "      <td>False</td>\n",
       "    </tr>\n",
       "    <tr>\n",
       "      <th>3</th>\n",
       "      <td>134744</td>\n",
       "      <td>13176</td>\n",
       "      <td>3.0000</td>\n",
       "      <td>1.4142</td>\n",
       "      <td>2.0000</td>\n",
       "      <td>2563808</td>\n",
       "      <td>1.0000</td>\n",
       "      <td>0.0000</td>\n",
       "      <td>False</td>\n",
       "    </tr>\n",
       "    <tr>\n",
       "      <th>4</th>\n",
       "      <td>150536</td>\n",
       "      <td>24373</td>\n",
       "      <td>7.0000</td>\n",
       "      <td>0.0000</td>\n",
       "      <td>70.0000</td>\n",
       "      <td>22021</td>\n",
       "      <td>0.0000</td>\n",
       "      <td>0.0000</td>\n",
       "      <td>True</td>\n",
       "    </tr>\n",
       "  </tbody>\n",
       "</table>\n",
       "</div>"
      ],
      "text/plain": [
       "   user_id  product_id  up_mean_days_since_prior_order  \\\n",
       "0    51783       47120                         13.0000   \n",
       "1   165860       13984                          3.0000   \n",
       "2   134148       29660                          8.0000   \n",
       "3   134744       13176                          3.0000   \n",
       "4   150536       24373                          7.0000   \n",
       "\n",
       "   up_var_days_since_prior_order  up_days_since_prior_order  order_id  \\\n",
       "0                         0.0000                   267.0000    365144   \n",
       "1                         0.0000                   232.0000    352644   \n",
       "2                         0.0000                    20.0000   1345617   \n",
       "3                         1.4142                     2.0000   2563808   \n",
       "4                         0.0000                    70.0000     22021   \n",
       "\n",
       "   reordered   pred correct  \n",
       "0     0.0000 0.0000    True  \n",
       "1     0.0000 0.0000    True  \n",
       "2     1.0000 0.0000   False  \n",
       "3     1.0000 0.0000   False  \n",
       "4     0.0000 0.0000    True  "
      ]
     },
     "execution_count": 17,
     "metadata": {},
     "output_type": "execute_result"
    }
   ],
   "source": [
    "frame = [X_val.reset_index(drop=True), y_val.reset_index(drop=True), pd.DataFrame(y_pred,columns=[\"pred\"])]\n",
    "result = pd.concat(frame, axis=1)\n",
    "result['correct'] = result.reordered == \\\n",
    "                                        result.pred\n",
    "print(result.shape)\n",
    "result.head()"
   ]
  },
  {
   "cell_type": "code",
   "execution_count": 43,
   "metadata": {
    "collapsed": false
   },
   "outputs": [
    {
     "name": "stdout",
     "output_type": "stream",
     "text": [
      "Fitting Over\n",
      "Percent of test0 is 0 : 0.9625491280063361\n",
      "Percent of test0 is 1 : 0.037450871993663946\n"
     ]
    }
   ],
   "source": [
    "threshold = 0.025\n",
    "\n",
    "submit = cross_val_and_testing(df = test,\n",
    "                               df_test = test[[\"up_mean_days_since_prior_order\",\"up_var_days_since_prior_order\",\"up_days_since_prior_order\"]],\n",
    "                               model = tree, threshold = threshold)\n",
    "submit.to_csv(\"submit_tree.csv\", index = False)\n"
   ]
  },
  {
   "cell_type": "code",
   "execution_count": 46,
   "metadata": {
    "collapsed": false
   },
   "outputs": [
    {
     "data": {
      "text/plain": [
       "0.67218666666666671"
      ]
     },
     "execution_count": 46,
     "metadata": {},
     "output_type": "execute_result"
    }
   ],
   "source": [
    "submit.isnull().sum()[1]/submit.shape[0]"
   ]
  },
  {
   "cell_type": "markdown",
   "metadata": {},
   "source": [
    "### 針對users分析"
   ]
  },
  {
   "cell_type": "code",
   "execution_count": null,
   "metadata": {
    "collapsed": false,
    "scrolled": false
   },
   "outputs": [],
   "source": [
    "# True=1, False=0\n",
    "result.correct = result.correct.astype(\"category\").cat.codes\n",
    "\n",
    "f = {'correct':['count', 'sum'],\n",
    "     'reordered':['sum'],\n",
    "     'pred':['sum']}\n",
    "g = result.groupby([\"user_id\"]).aggregate(f).reset_index()\n",
    "g.columns = [\"user_id\", \"nb_product\", \"sum_correct\", \"sum_val\", \"sum_pred\"]\n",
    "g[\"percent_reorder\"] = g.sum_val/g.nb_product\n",
    "g[\"accuracy\"] = g.sum_correct/g.nb_product\n",
    "g.head()\n"
   ]
  },
  {
   "cell_type": "code",
   "execution_count": null,
   "metadata": {
    "collapsed": true
   },
   "outputs": [],
   "source": [
    "def scatter_plot(df, dim1, dim2):\n",
    "    tocluster = pd.DataFrame(df[[dim1,dim2]])\n",
    "    print (\"Shape of tocluster\", tocluster.shape)\n",
    "    print (tocluster.head())\n",
    "\n",
    "    fig = plt.figure(figsize=(8,8))\n",
    "    plt.plot(tocluster[dim1], tocluster[dim2], 'o', markersize=4, color='blue', alpha=0.03, label='class1')\n",
    "\n",
    "    plt.xlabel(dim1)\n",
    "    plt.ylabel(dim2)\n",
    "    plt.legend()\n",
    "    plt.show()\n",
    "    return tocluster"
   ]
  },
  {
   "cell_type": "code",
   "execution_count": null,
   "metadata": {
    "collapsed": false
   },
   "outputs": [],
   "source": [
    "a = scatter_plot(df=g, dim1='percent_reorder', dim2='accuracy')"
   ]
  },
  {
   "cell_type": "code",
   "execution_count": null,
   "metadata": {
    "collapsed": false
   },
   "outputs": [],
   "source": [
    "high = g[(g.sum_val > 1)&(g.accuracy > 0.9)&(g.percent_reorder > 0.5)]\n",
    "print (high.shape[0])"
   ]
  },
  {
   "cell_type": "code",
   "execution_count": null,
   "metadata": {
    "collapsed": true
   },
   "outputs": [],
   "source": []
  }
 ],
 "metadata": {
  "kernelspec": {
   "display_name": "Python 3",
   "language": "python",
   "name": "python3"
  },
  "language_info": {
   "codemirror_mode": {
    "name": "ipython",
    "version": 3
   },
   "file_extension": ".py",
   "mimetype": "text/x-python",
   "name": "python",
   "nbconvert_exporter": "python",
   "pygments_lexer": "ipython3",
   "version": "3.6.0"
  }
 },
 "nbformat": 4,
 "nbformat_minor": 2
}
