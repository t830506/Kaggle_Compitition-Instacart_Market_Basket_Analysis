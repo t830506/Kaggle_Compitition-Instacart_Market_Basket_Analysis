{
 "cells": [
  {
   "cell_type": "code",
   "execution_count": 1,
   "metadata": {
    "collapsed": true
   },
   "outputs": [],
   "source": [
    "import pandas as pd\n",
    "import operator\n",
    "import warnings\n",
    "warnings.filterwarnings('ignore')\n",
    "\n",
    "pd.set_option('display.float_format', lambda x: '%.4f' % x)"
   ]
  },
  {
   "cell_type": "code",
   "execution_count": 2,
   "metadata": {
    "collapsed": true
   },
   "outputs": [],
   "source": [
    "# reading data\n",
    "prior_orders = pd.read_csv('order_products__prior.csv')\n",
    "train_orders = pd.read_csv('order_products__train.csv')\n",
    "orders = pd.read_csv('orders.csv')"
   ]
  },
  {
   "cell_type": "code",
   "execution_count": 3,
   "metadata": {
    "collapsed": false
   },
   "outputs": [
    {
     "data": {
      "text/html": [
       "<div>\n",
       "<table border=\"1\" class=\"dataframe\">\n",
       "  <thead>\n",
       "    <tr style=\"text-align: right;\">\n",
       "      <th></th>\n",
       "      <th>order_id</th>\n",
       "      <th>user_id</th>\n",
       "      <th>eval_set</th>\n",
       "      <th>order_number</th>\n",
       "      <th>order_dow</th>\n",
       "      <th>order_hour_of_day</th>\n",
       "      <th>days_since_prior_order</th>\n",
       "    </tr>\n",
       "  </thead>\n",
       "  <tbody>\n",
       "    <tr>\n",
       "      <th>26</th>\n",
       "      <td>1374495</td>\n",
       "      <td>3</td>\n",
       "      <td>prior</td>\n",
       "      <td>1</td>\n",
       "      <td>1</td>\n",
       "      <td>14</td>\n",
       "      <td>nan</td>\n",
       "    </tr>\n",
       "    <tr>\n",
       "      <th>27</th>\n",
       "      <td>444309</td>\n",
       "      <td>3</td>\n",
       "      <td>prior</td>\n",
       "      <td>2</td>\n",
       "      <td>3</td>\n",
       "      <td>19</td>\n",
       "      <td>9.0000</td>\n",
       "    </tr>\n",
       "    <tr>\n",
       "      <th>28</th>\n",
       "      <td>3002854</td>\n",
       "      <td>3</td>\n",
       "      <td>prior</td>\n",
       "      <td>3</td>\n",
       "      <td>3</td>\n",
       "      <td>16</td>\n",
       "      <td>21.0000</td>\n",
       "    </tr>\n",
       "    <tr>\n",
       "      <th>29</th>\n",
       "      <td>2037211</td>\n",
       "      <td>3</td>\n",
       "      <td>prior</td>\n",
       "      <td>4</td>\n",
       "      <td>2</td>\n",
       "      <td>18</td>\n",
       "      <td>20.0000</td>\n",
       "    </tr>\n",
       "    <tr>\n",
       "      <th>30</th>\n",
       "      <td>2710558</td>\n",
       "      <td>3</td>\n",
       "      <td>prior</td>\n",
       "      <td>5</td>\n",
       "      <td>0</td>\n",
       "      <td>17</td>\n",
       "      <td>12.0000</td>\n",
       "    </tr>\n",
       "  </tbody>\n",
       "</table>\n",
       "</div>"
      ],
      "text/plain": [
       "    order_id  user_id eval_set  order_number  order_dow  order_hour_of_day  \\\n",
       "26   1374495        3    prior             1          1                 14   \n",
       "27    444309        3    prior             2          3                 19   \n",
       "28   3002854        3    prior             3          3                 16   \n",
       "29   2037211        3    prior             4          2                 18   \n",
       "30   2710558        3    prior             5          0                 17   \n",
       "\n",
       "    days_since_prior_order  \n",
       "26                     nan  \n",
       "27                  9.0000  \n",
       "28                 21.0000  \n",
       "29                 20.0000  \n",
       "30                 12.0000  "
      ]
     },
     "execution_count": 3,
     "metadata": {},
     "output_type": "execute_result"
    }
   ],
   "source": [
    "# 選取testing的顧客\n",
    "test  = orders[orders['eval_set'] == 'test' ]\n",
    "user_ids = test['user_id'].values\n",
    "orders = orders[orders['user_id'].isin(user_ids)]\n",
    "orders.head()"
   ]
  },
  {
   "cell_type": "code",
   "execution_count": 4,
   "metadata": {
    "collapsed": false
   },
   "outputs": [
    {
     "data": {
      "text/html": [
       "<div>\n",
       "<table border=\"1\" class=\"dataframe\">\n",
       "  <thead>\n",
       "    <tr style=\"text-align: right;\">\n",
       "      <th></th>\n",
       "      <th>order_id</th>\n",
       "      <th>products_list</th>\n",
       "    </tr>\n",
       "  </thead>\n",
       "  <tbody>\n",
       "    <tr>\n",
       "      <th>0</th>\n",
       "      <td>2</td>\n",
       "      <td>[33120, 28985, 9327, 45918, 30035, 17794, 4014...</td>\n",
       "    </tr>\n",
       "    <tr>\n",
       "      <th>1</th>\n",
       "      <td>3</td>\n",
       "      <td>[33754, 24838, 17704, 21903, 17668, 46667, 174...</td>\n",
       "    </tr>\n",
       "    <tr>\n",
       "      <th>2</th>\n",
       "      <td>4</td>\n",
       "      <td>[46842, 26434, 39758, 27761, 10054, 21351, 225...</td>\n",
       "    </tr>\n",
       "    <tr>\n",
       "      <th>3</th>\n",
       "      <td>5</td>\n",
       "      <td>[13176, 15005, 47329, 27966, 23909, 48370, 132...</td>\n",
       "    </tr>\n",
       "    <tr>\n",
       "      <th>4</th>\n",
       "      <td>6</td>\n",
       "      <td>[40462, 15873, 41897]</td>\n",
       "    </tr>\n",
       "  </tbody>\n",
       "</table>\n",
       "</div>"
      ],
      "text/plain": [
       "   order_id                                      products_list\n",
       "0         2  [33120, 28985, 9327, 45918, 30035, 17794, 4014...\n",
       "1         3  [33754, 24838, 17704, 21903, 17668, 46667, 174...\n",
       "2         4  [46842, 26434, 39758, 27761, 10054, 21351, 225...\n",
       "3         5  [13176, 15005, 47329, 27966, 23909, 48370, 132...\n",
       "4         6                              [40462, 15873, 41897]"
      ]
     },
     "execution_count": 4,
     "metadata": {},
     "output_type": "execute_result"
    }
   ],
   "source": [
    "# prior顧客的購買紀錄\n",
    "prior_products = pd.DataFrame(prior_orders.groupby('order_id')['product_id'].apply(list))\n",
    "prior_products.reset_index(level=['order_id'], inplace=True)\n",
    "prior_products.columns = ['order_id','products_list']\n",
    "prior_products.head()"
   ]
  },
  {
   "cell_type": "code",
   "execution_count": 5,
   "metadata": {
    "collapsed": false
   },
   "outputs": [
    {
     "data": {
      "text/html": [
       "<div>\n",
       "<table border=\"1\" class=\"dataframe\">\n",
       "  <thead>\n",
       "    <tr style=\"text-align: right;\">\n",
       "      <th></th>\n",
       "      <th>order_id</th>\n",
       "      <th>products_list</th>\n",
       "    </tr>\n",
       "  </thead>\n",
       "  <tbody>\n",
       "    <tr>\n",
       "      <th>0</th>\n",
       "      <td>1</td>\n",
       "      <td>[49302, 11109, 10246, 49683, 43633, 13176, 472...</td>\n",
       "    </tr>\n",
       "    <tr>\n",
       "      <th>1</th>\n",
       "      <td>36</td>\n",
       "      <td>[39612, 19660, 49235, 43086, 46620, 34497, 486...</td>\n",
       "    </tr>\n",
       "    <tr>\n",
       "      <th>2</th>\n",
       "      <td>38</td>\n",
       "      <td>[11913, 18159, 4461, 21616, 23622, 32433, 2884...</td>\n",
       "    </tr>\n",
       "    <tr>\n",
       "      <th>3</th>\n",
       "      <td>96</td>\n",
       "      <td>[20574, 30391, 40706, 25610, 27966, 24489, 39275]</td>\n",
       "    </tr>\n",
       "    <tr>\n",
       "      <th>4</th>\n",
       "      <td>98</td>\n",
       "      <td>[8859, 19731, 43654, 13176, 4357, 37664, 34065...</td>\n",
       "    </tr>\n",
       "  </tbody>\n",
       "</table>\n",
       "</div>"
      ],
      "text/plain": [
       "   order_id                                      products_list\n",
       "0         1  [49302, 11109, 10246, 49683, 43633, 13176, 472...\n",
       "1        36  [39612, 19660, 49235, 43086, 46620, 34497, 486...\n",
       "2        38  [11913, 18159, 4461, 21616, 23622, 32433, 2884...\n",
       "3        96  [20574, 30391, 40706, 25610, 27966, 24489, 39275]\n",
       "4        98  [8859, 19731, 43654, 13176, 4357, 37664, 34065..."
      ]
     },
     "execution_count": 5,
     "metadata": {},
     "output_type": "execute_result"
    }
   ],
   "source": [
    "# training顧客的購買\n",
    "train_products = pd.DataFrame(train_orders.groupby('order_id')['product_id'].apply(list))\n",
    "train_products.reset_index(level=['order_id'], inplace=True)\n",
    "train_products.columns = ['order_id','products_list']\n",
    "train_products.head()"
   ]
  },
  {
   "cell_type": "code",
   "execution_count": 6,
   "metadata": {
    "collapsed": true
   },
   "outputs": [],
   "source": [
    "# seperate orders into prior/train sets\n",
    "# turns out there are no test user_ids in the training set so train will be empty\n",
    "prior = orders[orders['eval_set'] == 'prior']\n",
    "train = orders[orders['eval_set'] == 'train']"
   ]
  },
  {
   "cell_type": "code",
   "execution_count": 7,
   "metadata": {
    "collapsed": false
   },
   "outputs": [
    {
     "data": {
      "text/html": [
       "<div>\n",
       "<table border=\"1\" class=\"dataframe\">\n",
       "  <thead>\n",
       "    <tr style=\"text-align: right;\">\n",
       "      <th></th>\n",
       "      <th>order_id</th>\n",
       "      <th>user_id</th>\n",
       "      <th>eval_set</th>\n",
       "      <th>order_number</th>\n",
       "      <th>order_dow</th>\n",
       "      <th>order_hour_of_day</th>\n",
       "      <th>days_since_prior_order</th>\n",
       "      <th>num_orders</th>\n",
       "    </tr>\n",
       "  </thead>\n",
       "  <tbody>\n",
       "    <tr>\n",
       "      <th>26</th>\n",
       "      <td>1374495</td>\n",
       "      <td>3</td>\n",
       "      <td>prior</td>\n",
       "      <td>1</td>\n",
       "      <td>1</td>\n",
       "      <td>14</td>\n",
       "      <td>nan</td>\n",
       "      <td>12</td>\n",
       "    </tr>\n",
       "    <tr>\n",
       "      <th>27</th>\n",
       "      <td>444309</td>\n",
       "      <td>3</td>\n",
       "      <td>prior</td>\n",
       "      <td>2</td>\n",
       "      <td>3</td>\n",
       "      <td>19</td>\n",
       "      <td>9.0000</td>\n",
       "      <td>12</td>\n",
       "    </tr>\n",
       "    <tr>\n",
       "      <th>28</th>\n",
       "      <td>3002854</td>\n",
       "      <td>3</td>\n",
       "      <td>prior</td>\n",
       "      <td>3</td>\n",
       "      <td>3</td>\n",
       "      <td>16</td>\n",
       "      <td>21.0000</td>\n",
       "      <td>12</td>\n",
       "    </tr>\n",
       "    <tr>\n",
       "      <th>29</th>\n",
       "      <td>2037211</td>\n",
       "      <td>3</td>\n",
       "      <td>prior</td>\n",
       "      <td>4</td>\n",
       "      <td>2</td>\n",
       "      <td>18</td>\n",
       "      <td>20.0000</td>\n",
       "      <td>12</td>\n",
       "    </tr>\n",
       "    <tr>\n",
       "      <th>30</th>\n",
       "      <td>2710558</td>\n",
       "      <td>3</td>\n",
       "      <td>prior</td>\n",
       "      <td>5</td>\n",
       "      <td>0</td>\n",
       "      <td>17</td>\n",
       "      <td>12.0000</td>\n",
       "      <td>12</td>\n",
       "    </tr>\n",
       "  </tbody>\n",
       "</table>\n",
       "</div>"
      ],
      "text/plain": [
       "    order_id  user_id eval_set  order_number  order_dow  order_hour_of_day  \\\n",
       "26   1374495        3    prior             1          1                 14   \n",
       "27    444309        3    prior             2          3                 19   \n",
       "28   3002854        3    prior             3          3                 16   \n",
       "29   2037211        3    prior             4          2                 18   \n",
       "30   2710558        3    prior             5          0                 17   \n",
       "\n",
       "    days_since_prior_order  num_orders  \n",
       "26                     nan          12  \n",
       "27                  9.0000          12  \n",
       "28                 21.0000          12  \n",
       "29                 20.0000          12  \n",
       "30                 12.0000          12  "
      ]
     },
     "execution_count": 7,
     "metadata": {},
     "output_type": "execute_result"
    }
   ],
   "source": [
    "# find the number of the last order placed\n",
    "prior['num_orders'] = prior.groupby(['user_id'])['order_number'].transform(max)\n",
    "train['num_orders'] = train.groupby(['user_id'])['order_number'].transform(max)\n",
    "prior.head()"
   ]
  },
  {
   "cell_type": "code",
   "execution_count": 8,
   "metadata": {
    "collapsed": false
   },
   "outputs": [
    {
     "data": {
      "text/html": [
       "<div>\n",
       "<table border=\"1\" class=\"dataframe\">\n",
       "  <thead>\n",
       "    <tr style=\"text-align: right;\">\n",
       "      <th></th>\n",
       "      <th>days_since_prior_order</th>\n",
       "      <th>eval_set</th>\n",
       "      <th>num_orders</th>\n",
       "      <th>order_dow</th>\n",
       "      <th>order_hour_of_day</th>\n",
       "      <th>order_id</th>\n",
       "      <th>order_number</th>\n",
       "      <th>products_list</th>\n",
       "      <th>user_id</th>\n",
       "    </tr>\n",
       "  </thead>\n",
       "  <tbody>\n",
       "    <tr>\n",
       "      <th>0</th>\n",
       "      <td>nan</td>\n",
       "      <td>prior</td>\n",
       "      <td>12</td>\n",
       "      <td>1</td>\n",
       "      <td>14</td>\n",
       "      <td>1374495</td>\n",
       "      <td>1</td>\n",
       "      <td>[9387, 17668, 15143, 16797, 39190, 47766, 2190...</td>\n",
       "      <td>3</td>\n",
       "    </tr>\n",
       "    <tr>\n",
       "      <th>1</th>\n",
       "      <td>9.0000</td>\n",
       "      <td>prior</td>\n",
       "      <td>12</td>\n",
       "      <td>3</td>\n",
       "      <td>19</td>\n",
       "      <td>444309</td>\n",
       "      <td>2</td>\n",
       "      <td>[38596, 21903, 248, 40604, 8021, 17668, 21137,...</td>\n",
       "      <td>3</td>\n",
       "    </tr>\n",
       "    <tr>\n",
       "      <th>2</th>\n",
       "      <td>21.0000</td>\n",
       "      <td>prior</td>\n",
       "      <td>12</td>\n",
       "      <td>3</td>\n",
       "      <td>16</td>\n",
       "      <td>3002854</td>\n",
       "      <td>3</td>\n",
       "      <td>[39190, 47766, 21903, 49683, 28373, 7503]</td>\n",
       "      <td>3</td>\n",
       "    </tr>\n",
       "    <tr>\n",
       "      <th>3</th>\n",
       "      <td>20.0000</td>\n",
       "      <td>prior</td>\n",
       "      <td>12</td>\n",
       "      <td>2</td>\n",
       "      <td>18</td>\n",
       "      <td>2037211</td>\n",
       "      <td>4</td>\n",
       "      <td>[1819, 12845, 9387, 16965, 24010]</td>\n",
       "      <td>3</td>\n",
       "    </tr>\n",
       "    <tr>\n",
       "      <th>4</th>\n",
       "      <td>12.0000</td>\n",
       "      <td>prior</td>\n",
       "      <td>12</td>\n",
       "      <td>0</td>\n",
       "      <td>17</td>\n",
       "      <td>2710558</td>\n",
       "      <td>5</td>\n",
       "      <td>[39190, 9387, 17668, 47766, 16965, 28373, 2190...</td>\n",
       "      <td>3</td>\n",
       "    </tr>\n",
       "  </tbody>\n",
       "</table>\n",
       "</div>"
      ],
      "text/plain": [
       "   days_since_prior_order eval_set  num_orders  order_dow  order_hour_of_day  \\\n",
       "0                     nan    prior          12          1                 14   \n",
       "1                  9.0000    prior          12          3                 19   \n",
       "2                 21.0000    prior          12          3                 16   \n",
       "3                 20.0000    prior          12          2                 18   \n",
       "4                 12.0000    prior          12          0                 17   \n",
       "\n",
       "   order_id  order_number                                      products_list  \\\n",
       "0   1374495             1  [9387, 17668, 15143, 16797, 39190, 47766, 2190...   \n",
       "1    444309             2  [38596, 21903, 248, 40604, 8021, 17668, 21137,...   \n",
       "2   3002854             3          [39190, 47766, 21903, 49683, 28373, 7503]   \n",
       "3   2037211             4                  [1819, 12845, 9387, 16965, 24010]   \n",
       "4   2710558             5  [39190, 9387, 17668, 47766, 16965, 28373, 2190...   \n",
       "\n",
       "   user_id  \n",
       "0        3  \n",
       "1        3  \n",
       "2        3  \n",
       "3        3  \n",
       "4        3  "
      ]
     },
     "execution_count": 8,
     "metadata": {},
     "output_type": "execute_result"
    }
   ],
   "source": [
    "# merge everything into one dataframe\n",
    "prior = pd.merge(prior, prior_products, on='order_id', how='left')\n",
    "train = pd.merge(train, train_products, on='order_id', how='left')\n",
    "comb = pd.concat([prior, train], axis=0).reset_index(drop=True)\n",
    "comb.head()"
   ]
  },
  {
   "cell_type": "code",
   "execution_count": 9,
   "metadata": {
    "collapsed": false
   },
   "outputs": [
    {
     "name": "stdout",
     "output_type": "stream",
     "text": [
      "     order_id  user_id\n",
      "38    2774568        3\n",
      "44     329954        4\n",
      "53    1528013        6\n",
      "96    1376945       11\n",
      "102   1356845       12\n"
     ]
    },
    {
     "data": {
      "text/html": [
       "<div>\n",
       "<table border=\"1\" class=\"dataframe\">\n",
       "  <thead>\n",
       "    <tr style=\"text-align: right;\">\n",
       "      <th></th>\n",
       "      <th>order_id</th>\n",
       "      <th>user_id</th>\n",
       "      <th>order_number</th>\n",
       "      <th>num_orders</th>\n",
       "      <th>products_list</th>\n",
       "    </tr>\n",
       "  </thead>\n",
       "  <tbody>\n",
       "    <tr>\n",
       "      <th>0</th>\n",
       "      <td>1374495</td>\n",
       "      <td>3</td>\n",
       "      <td>1</td>\n",
       "      <td>12</td>\n",
       "      <td>[9387, 17668, 15143, 16797, 39190, 47766, 2190...</td>\n",
       "    </tr>\n",
       "    <tr>\n",
       "      <th>1</th>\n",
       "      <td>444309</td>\n",
       "      <td>3</td>\n",
       "      <td>2</td>\n",
       "      <td>12</td>\n",
       "      <td>[38596, 21903, 248, 40604, 8021, 17668, 21137,...</td>\n",
       "    </tr>\n",
       "    <tr>\n",
       "      <th>2</th>\n",
       "      <td>3002854</td>\n",
       "      <td>3</td>\n",
       "      <td>3</td>\n",
       "      <td>12</td>\n",
       "      <td>[39190, 47766, 21903, 49683, 28373, 7503]</td>\n",
       "    </tr>\n",
       "    <tr>\n",
       "      <th>3</th>\n",
       "      <td>2037211</td>\n",
       "      <td>3</td>\n",
       "      <td>4</td>\n",
       "      <td>12</td>\n",
       "      <td>[1819, 12845, 9387, 16965, 24010]</td>\n",
       "    </tr>\n",
       "    <tr>\n",
       "      <th>4</th>\n",
       "      <td>2710558</td>\n",
       "      <td>3</td>\n",
       "      <td>5</td>\n",
       "      <td>12</td>\n",
       "      <td>[39190, 9387, 17668, 47766, 16965, 28373, 2190...</td>\n",
       "    </tr>\n",
       "  </tbody>\n",
       "</table>\n",
       "</div>"
      ],
      "text/plain": [
       "   order_id  user_id  order_number  num_orders  \\\n",
       "0   1374495        3             1          12   \n",
       "1    444309        3             2          12   \n",
       "2   3002854        3             3          12   \n",
       "3   2037211        3             4          12   \n",
       "4   2710558        3             5          12   \n",
       "\n",
       "                                       products_list  \n",
       "0  [9387, 17668, 15143, 16797, 39190, 47766, 2190...  \n",
       "1  [38596, 21903, 248, 40604, 8021, 17668, 21137,...  \n",
       "2          [39190, 47766, 21903, 49683, 28373, 7503]  \n",
       "3                  [1819, 12845, 9387, 16965, 24010]  \n",
       "4  [39190, 9387, 17668, 47766, 16965, 28373, 2190...  "
      ]
     },
     "execution_count": 9,
     "metadata": {},
     "output_type": "execute_result"
    }
   ],
   "source": [
    "# 選取～training and testing\n",
    "test_cols = ['order_id','user_id']\n",
    "cols = ['order_id','user_id','order_number','num_orders','products_list']\n",
    "\n",
    "comb = comb[cols]\n",
    "test = test[test_cols]\n",
    "print(test.head())\n",
    "comb.head()"
   ]
  },
  {
   "cell_type": "code",
   "execution_count": 10,
   "metadata": {
    "collapsed": false
   },
   "outputs": [
    {
     "name": "stdout",
     "output_type": "stream",
     "text": [
      "Iterated Through 0 Rows...\n",
      "Iterated Through 100000 Rows...\n",
      "Iterated Through 200000 Rows...\n",
      "Iterated Through 300000 Rows...\n",
      "Iterated Through 400000 Rows...\n",
      "Iterated Through 500000 Rows...\n",
      "Iterated Through 600000 Rows...\n",
      "Iterated Through 700000 Rows...\n",
      "Iterated Through 800000 Rows...\n",
      "Iterated Through 900000 Rows...\n",
      "Iterated Through 1000000 Rows...\n",
      "Iterated Through 1100000 Rows...\n"
     ]
    }
   ],
   "source": [
    "# iterate through dataframe, adding data to dictionary\n",
    "# data added is in the form of a list:\n",
    "    # list[0] = weight of the data: (1 + current order number / final order number), thus later data is weighted more\n",
    "    # list[1] = how important the item is to the buyer: (order in the cart / number of items bought), thus items bought first are weighted more\n",
    "\n",
    "# also used the average amount of items bought every order as a benchmark for how many items to add per user in the final submission\n",
    "\n",
    "product_dict = {}\n",
    "for i, row in comb.iterrows():\n",
    "    if i % 100000 == 0:\n",
    "        print('Iterated Through {} Rows...'.format(i))\n",
    "\n",
    "    if row['user_id'] in product_dict:\n",
    "        index = 1\n",
    "        list.append(product_dict[row['user_id']]['len_products'], len(row['products_list']))\n",
    "        for val in row['products_list']:\n",
    "            if val in product_dict[row['user_id']]:\n",
    "                product_dict[row['user_id']][val][0] += 1 + int(row['order_number']) / int(row['num_orders'])\n",
    "                list.append(product_dict[row['user_id']][val][1], index / len(row['products_list']))\n",
    "            else:\n",
    "                product_dict[row['user_id']][val] = [1 + int(row['order_number']) / int(row['num_orders']),\n",
    "                                              [index / len(row['products_list'])]]\n",
    "            index += 1\n",
    "    else:\n",
    "        index = 1\n",
    "        product_dict[row['user_id']] = {'len_products': [\n",
    "            len(row['products_list'])]}\n",
    "        for val in row['products_list']:\n",
    "            product_dict[row['user_id']][val] = [1 + int(row['order_number']) / int(row['num_orders']),\n",
    "                                          [index / len(row['products_list'])]]\n",
    "            index += 1\n"
   ]
  },
  {
   "cell_type": "code",
   "execution_count": 21,
   "metadata": {
    "collapsed": true
   },
   "outputs": [],
   "source": [
    "final_data = {}\n",
    "for user_id in product_dict:\n",
    "    final_data[user_id] = {}\n",
    "    for product_id in product_dict[user_id]:\n",
    "        if product_id == 'len_products':\n",
    "            final_data[user_id][product_id] = \\\n",
    "                round(sum(product_dict[user_id][product_id])/\n",
    "                    len(product_dict[user_id][product_id]))\n",
    "        else:\n",
    "            final_data[user_id][product_id] = \\\n",
    "                [product_dict[user_id][product_id][0],1/\n",
    "                 (sum(product_dict[user_id][product_id][1])/\n",
    "                len(product_dict[user_id][product_id][1]))]\n"
   ]
  },
  {
   "cell_type": "markdown",
   "metadata": {},
   "source": [
    "1. 顧次每次購買數量\n",
    "2. 1 + current order number / final order number\n",
    "3. 每一次出現先後的比例\n",
    "4. 最後的data是把它加起來的整理"
   ]
  },
  {
   "cell_type": "code",
   "execution_count": 23,
   "metadata": {
    "collapsed": false
   },
   "outputs": [
    {
     "name": "stdout",
     "output_type": "stream",
     "text": [
      "Iterated Through 1700000 Rows...\n"
     ]
    }
   ],
   "source": [
    "# iterate through testing dataframe\n",
    "# every user_id in test corresponds to a dictionary entry\n",
    "# call the dictionary with every row, products by weight, combine them into a string, and append them to products\n",
    "\n",
    "products = []\n",
    "for i, row in test.iterrows():\n",
    "    if i % 100000 == 0:\n",
    "        print('Iterated Through {} Rows...'.format(i))\n",
    "\n",
    "    final_products = []\n",
    "    len_products = None\n",
    "    total_products = final_data[row['user_id']].items()\n",
    "    for product in total_products:\n",
    "        if product[0] == 'len_products':\n",
    "            len_products = product[1]\n",
    "        else:\n",
    "            list.append(final_products, product)\n",
    "\n",
    "    output = []\n",
    "    product_list = sorted(final_products, key=operator.itemgetter(1), reverse=True)\n",
    "    for val in product_list[:len_products]:\n",
    "        list.append(output, str(val[0]))\n",
    "    final_output = ' '.join(output)\n",
    "    list.append(products, final_output)\n"
   ]
  },
  {
   "cell_type": "code",
   "execution_count": 91,
   "metadata": {
    "collapsed": false
   },
   "outputs": [
    {
     "name": "stdout",
     "output_type": "stream",
     "text": [
      "order_id    0\n",
      "products    0\n",
      "dtype: int64\n"
     ]
    },
    {
     "data": {
      "text/html": [
       "<div>\n",
       "<table border=\"1\" class=\"dataframe\">\n",
       "  <thead>\n",
       "    <tr style=\"text-align: right;\">\n",
       "      <th></th>\n",
       "      <th>order_id</th>\n",
       "      <th>products</th>\n",
       "    </tr>\n",
       "  </thead>\n",
       "  <tbody>\n",
       "    <tr>\n",
       "      <th>38</th>\n",
       "      <td>2774568</td>\n",
       "      <td>39190 47766 21903 17668 18599 9387 43961</td>\n",
       "    </tr>\n",
       "    <tr>\n",
       "      <th>44</th>\n",
       "      <td>329954</td>\n",
       "      <td>35469 26576 25623 21573</td>\n",
       "    </tr>\n",
       "    <tr>\n",
       "      <th>53</th>\n",
       "      <td>1528013</td>\n",
       "      <td>38293 21903 49401 25659 8424</td>\n",
       "    </tr>\n",
       "    <tr>\n",
       "      <th>96</th>\n",
       "      <td>1376945</td>\n",
       "      <td>27959 8309 14947 35948 28465 34658 8670 42585 ...</td>\n",
       "    </tr>\n",
       "    <tr>\n",
       "      <th>102</th>\n",
       "      <td>1356845</td>\n",
       "      <td>13176 14992 10863 7076 8239 5746 28134 21616 2...</td>\n",
       "    </tr>\n",
       "  </tbody>\n",
       "</table>\n",
       "</div>"
      ],
      "text/plain": [
       "     order_id                                           products\n",
       "38    2774568           39190 47766 21903 17668 18599 9387 43961\n",
       "44     329954                            35469 26576 25623 21573\n",
       "53    1528013                       38293 21903 49401 25659 8424\n",
       "96    1376945  27959 8309 14947 35948 28465 34658 8670 42585 ...\n",
       "102   1356845  13176 14992 10863 7076 8239 5746 28134 21616 2..."
      ]
     },
     "execution_count": 91,
     "metadata": {},
     "output_type": "execute_result"
    }
   ],
   "source": [
    "# create submission\n",
    "submission = pd.DataFrame()\n",
    "submission['order_id'] = test['order_id']\n",
    "submission['products'] = products\n",
    "#submission.to_csv('submission.csv', index=False)\n",
    "print(submission.isnull().sum())\n",
    "submission.head()"
   ]
  },
  {
   "cell_type": "code",
   "execution_count": 44,
   "metadata": {
    "collapsed": false
   },
   "outputs": [
    {
     "name": "stdout",
     "output_type": "stream",
     "text": [
      "(75000, 2)\n",
      "order_id        0\n",
      "products    50151\n",
      "dtype: int64\n",
      "(75000, 2)\n",
      "order_id    0\n",
      "products    0\n",
      "dtype: int64\n",
      "(24849, 2)\n",
      "(50151, 2)\n",
      "(75000, 2)\n"
     ]
    }
   ],
   "source": [
    "d = pd.read_csv(\"submit_abc.csv\")\n",
    "print (d.shape)\n",
    "print (d.isnull().sum())\n",
    "\n",
    "d1 = pd.read_csv(\"submission.csv\")\n",
    "d1 = d1.sort(\"order_id\", ascending=True).reset_index(drop = True)\n",
    "print (d1.shape)\n",
    "print (d1.isnull().sum())\n",
    "\n",
    "d_1 = d.dropna()\n",
    "\n",
    "d_2 = d[pd.isnull(d).any(axis=1)]\n",
    "d1_1 = d1.iloc[d_2.index, :]\n",
    "print (d_1.shape)\n",
    "print (d1_1.shape)\n",
    "\n",
    "sub = pd.concat([d_1, d1_1])\n",
    "sub = sub.reset_index(drop = True)\n",
    "print (sub.shape)\n",
    "sub.to_csv(\"sub.csv\", index = False)"
   ]
  },
  {
   "cell_type": "code",
   "execution_count": null,
   "metadata": {
    "collapsed": true
   },
   "outputs": [],
   "source": []
  }
 ],
 "metadata": {
  "kernelspec": {
   "display_name": "Python 3",
   "language": "python",
   "name": "python3"
  },
  "language_info": {
   "codemirror_mode": {
    "name": "ipython",
    "version": 3
   },
   "file_extension": ".py",
   "mimetype": "text/x-python",
   "name": "python",
   "nbconvert_exporter": "python",
   "pygments_lexer": "ipython3",
   "version": "3.6.0"
  }
 },
 "nbformat": 4,
 "nbformat_minor": 2
}
