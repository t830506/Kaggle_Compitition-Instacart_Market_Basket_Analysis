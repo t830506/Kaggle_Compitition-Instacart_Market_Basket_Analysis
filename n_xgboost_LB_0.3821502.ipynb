{
 "cells": [
  {
   "cell_type": "code",
   "execution_count": 1,
   "metadata": {
    "collapsed": false
   },
   "outputs": [
    {
     "name": "stdout",
     "output_type": "stream",
     "text": [
      "import data\n",
      "merge orders and order_products__prior\n",
      "size of prd features : 5\n",
      "size of users features : 13\n",
      "nb of usersXproducts features : 13\n",
      "merge prod, user and usersXprod feature on usersXprod\n",
      "order row 2000000\n",
      "order row 4000000\n",
      "order row 6000000\n",
      "order row 8000000\n",
      "order row 10000000\n",
      "order row 12000000\n",
      "shape of usersXprod : (13307953, 32)\n"
     ]
    }
   ],
   "source": [
    "# 變數前處理\n",
    "\n",
    "%run preprocessing.py\n",
    "print (\"shape of usersXprod :\", usersXprod.shape)\n",
    "\n",
    "p = pd.read_csv(\"products.csv\")\n",
    "p = p.drop([\"product_name\"], axis=1)\n",
    "usersXprod = pd.merge(usersXprod, p, how='left', on=['product_id'])\n"
   ]
  },
  {
   "cell_type": "code",
   "execution_count": 2,
   "metadata": {
    "collapsed": true
   },
   "outputs": [],
   "source": [
    "# train set convert to form of submit\n",
    "\n",
    "train_details = ordert[[\"user_id\", \"order_id\", \"product_id\", \"reordered\"]]\n",
    "\n",
    "try:\n",
    "    df_train_gt = pd.read_csv('train.csv', index_col='order_id')\n",
    "except:\n",
    "    train_gtl = []\n",
    "\n",
    "    for uid, subset in train_details.groupby('user_id'):\n",
    "        subset1 = subset[subset.reordered == 1]\n",
    "        oid = subset.order_id.values[0]\n",
    "\n",
    "        if len(subset1) == 0:\n",
    "            train_gtl.append((oid, 'None'))\n",
    "            continue\n",
    "\n",
    "        ostr = ' '.join([str(int(e)) for e in subset1.product_id.values])\n",
    "        # .strip is needed because join can have a padding space at the end\n",
    "        train_gtl.append((oid, ostr.strip()))\n",
    "\n",
    "    df_train_gt = pd.DataFrame(train_gtl)\n",
    "\n",
    "    df_train_gt.columns = ['order_id', 'products']\n",
    "    df_train_gt.set_index('order_id', inplace=True)\n",
    "    df_train_gt.sort_index(inplace=True)\n",
    "    \n",
    "    df_train_gt.to_csv('train.csv')"
   ]
  },
  {
   "cell_type": "code",
   "execution_count": 3,
   "metadata": {
    "collapsed": true
   },
   "outputs": [],
   "source": [
    "import time\n",
    "\n",
    "class tick_tock:\n",
    "    def __init__(self, process_name, verbose=1):\n",
    "        self.process_name = process_name\n",
    "        self.verbose = verbose\n",
    "    def __enter__(self):\n",
    "        if self.verbose:\n",
    "            print(self.process_name + \" begin ......\")\n",
    "            self.begin_time = time.time()\n",
    "    def __exit__(self, type, value, traceback):\n",
    "        if self.verbose:\n",
    "            end_time = time.time()\n",
    "            print(self.process_name + \" end ......\")\n",
    "            print('time lapsing {0} s \\n'.format(end_time - self.begin_time))\n",
    "\n",
    "# convert to form of submit\n",
    "def ka_add_groupby_features_n_vs_1(df, group_columns_list, target_columns_list, methods_list, keep_only_stats=True, verbose=1):\n",
    "    '''Create statistical columns, group by [N columns] and compute stats on [1 column]\n",
    "\n",
    "       Parameters\n",
    "       ----------\n",
    "       df: pandas dataframe\n",
    "          Features matrix\n",
    "       group_columns_list: list_like\n",
    "          List of columns you want to group with, could be multiple columns\n",
    "       target_columns_list: list_like\n",
    "          column you want to compute stats, need to be a list with only one element\n",
    "       methods_list: list_like\n",
    "          methods that you want to use, all methods that supported by groupby in Pandas\n",
    "\n",
    "       Return\n",
    "       ------\n",
    "       new pandas dataframe with original columns and new added columns\n",
    "\n",
    "       Example\n",
    "       -------\n",
    "       ka_add_stats_features_n_vs_1(train, group_columns_list=['x0'], target_columns_list=['x10'])\n",
    "    '''\n",
    "    with tick_tock(\"add stats features\", verbose):\n",
    "        dicts = {\"group_columns_list\": group_columns_list , \"target_columns_list\": target_columns_list, \"methods_list\" :methods_list}\n",
    "\n",
    "        for k, v in dicts.items():\n",
    "            try:\n",
    "                if type(v) == list:\n",
    "                    pass\n",
    "                else:\n",
    "                    raise TypeError(k + \"should be a list\")\n",
    "            except TypeError as e:\n",
    "                print(e)\n",
    "                raise\n",
    "\n",
    "        grouped_name = ''.join(group_columns_list)\n",
    "        target_name = ''.join(target_columns_list)\n",
    "        combine_name = [[grouped_name] + [method_name] + [target_name] for method_name in methods_list]\n",
    "\n",
    "        df_new = df.copy()\n",
    "        grouped = df_new.groupby(group_columns_list)\n",
    "\n",
    "        the_stats = grouped[target_name].agg(methods_list).reset_index()\n",
    "        the_stats.columns = [grouped_name] + \\\n",
    "                            ['_%s_%s_by_%s' % (grouped_name, method_name, target_name) \\\n",
    "                             for (grouped_name, method_name, target_name) in combine_name]\n",
    "        if keep_only_stats:\n",
    "            return the_stats\n",
    "        else:\n",
    "            df_new = pd.merge(left=df_new, right=the_stats, on=group_columns_list, how='left')\n",
    "        return df_new\n"
   ]
  },
  {
   "cell_type": "code",
   "execution_count": 4,
   "metadata": {
    "collapsed": false
   },
   "outputs": [
    {
     "name": "stderr",
     "output_type": "stream",
     "text": [
      "/Users/Shawn/anaconda/lib/python3.6/site-packages/sklearn/cross_validation.py:44: DeprecationWarning: This module was deprecated in version 0.18 in favor of the model_selection module into which all the refactored classes and functions are moved. Also note that the interface of the new CV iterators are different from that of this module. This module will be removed in 0.20.\n",
      "  \"This module will be removed in 0.20.\", DeprecationWarning)\n"
     ]
    }
   ],
   "source": [
    "import xgboost\n",
    "import matplotlib.pyplot as plt\n",
    "from sklearn.model_selection import train_test_split\n",
    "\n",
    "train = usersXprod.loc[usersXprod.eval_set == \"train\",:]\n",
    "train.drop(['eval_set', 'user_id', 'product_id', 'order_id'], axis=1, inplace=True)\n",
    "\n",
    "X_test = usersXprod.loc[usersXprod.eval_set == \"test\",:]\n",
    "\n",
    "X_train, X_val, y_train, y_val = train_test_split(train.drop('reordered', axis=1),\n",
    "                                                  train.reordered,\n",
    "                                                  test_size = 0.9,\n",
    "                                                  random_state = 42)\n",
    "\n",
    "#d_train = xgboost.DMatrix(X_train, y_train) # subset\n",
    "d_train = xgboost.DMatrix(train.drop('reordered', axis=1), train.reordered)\n"
   ]
  },
  {
   "cell_type": "code",
   "execution_count": 5,
   "metadata": {
    "collapsed": false,
    "scrolled": true
   },
   "outputs": [
    {
     "name": "stdout",
     "output_type": "stream",
     "text": [
      "[0]\ttrain-logloss:0.625523\n",
      "[10]\ttrain-logloss:0.334636\n",
      "[20]\ttrain-logloss:0.267733\n",
      "[30]\ttrain-logloss:0.250653\n",
      "[40]\ttrain-logloss:0.246149\n",
      "[50]\ttrain-logloss:0.244842\n",
      "[60]\ttrain-logloss:0.244199\n",
      "[70]\ttrain-logloss:0.243799\n",
      "[80]\ttrain-logloss:0.243436\n",
      "[90]\ttrain-logloss:0.243162\n"
     ]
    },
    {
     "data": {
      "image/png": "[encoded data removed]",
      "text/plain": [
       "<matplotlib.figure.Figure at 0x11e341208>"
      ]
     },
     "metadata": {},
     "output_type": "display_data"
    }
   ],
   "source": [
    "xgb_params = {\n",
    "    \"objective\"        : \"reg:logistic\",\n",
    "    \"eval_metric\"      : \"logloss\",\n",
    "    \"eta\"              : 0.1,\n",
    "    \"max_depth\"        : 8,\n",
    "    \"min_child_weight\" : 10,\n",
    "    \"gamma\"            : 0.70,\n",
    "    \"subsample\"        : 0.76,\n",
    "    \"colsample_bytree\" : 0.95,\n",
    "    \"alpha\"            : 2e-05,\n",
    "    \"lambda\"           : 10\n",
    "}\n",
    "\n",
    "watchlist= [(d_train, \"train\")]\n",
    "bst = xgboost.train(params = xgb_params,\n",
    "                    dtrain = d_train,\n",
    "                    num_boost_round = 80,\n",
    "                    evals = watchlist,\n",
    "                    verbose_eval = 10)\n",
    "\n",
    "xgboost.plot_importance(bst)\n",
    "plt.show()"
   ]
  },
  {
   "cell_type": "markdown",
   "metadata": {},
   "source": [
    "> 0.242721"
   ]
  },
  {
   "cell_type": "code",
   "execution_count": 6,
   "metadata": {
    "collapsed": false
   },
   "outputs": [
    {
     "name": "stdout",
     "output_type": "stream",
     "text": [
      "add stats features begin ......\n",
      "add stats features end ......\n",
      "time lapsing 21.361598014831543 s \n",
      "\n",
      "75000 71312\n"
     ]
    }
   ],
   "source": [
    "# predict\n",
    "# convert to the form of submit\n",
    "\n",
    "d_test = xgboost.DMatrix(X_test.drop(['eval_set', 'user_id', 'order_id', 'reordered', 'product_id'], axis=1))\n",
    "X_test.loc[:, 'reordered'] = (bst.predict(d_test) > 0.21).astype(int)\n",
    "X_test.loc[:, 'product_id'] = X_test.product_id.astype(str)\n",
    "\n",
    "submit = ka_add_groupby_features_n_vs_1(X_test[X_test.reordered == 1], \n",
    "                                        group_columns_list = ['order_id'],\n",
    "                                        target_columns_list = ['product_id'],\n",
    "                                        methods_list = [lambda x: ' '.join(set(x))],\n",
    "                                        keep_only_stats = True)\n",
    "sample_submission = pd.read_csv(\"sample_submission.csv\")\n",
    "print (len(sample_submission), len(submit))\n",
    "\n",
    "submit.columns = sample_submission.columns.tolist()\n",
    "submit_final = sample_submission[['order_id']].merge(submit, how='left').fillna('None')\n",
    "submit_final.to_csv(\"submit_xgboost.csv\", index = False)"
   ]
  },
  {
   "cell_type": "code",
   "execution_count": null,
   "metadata": {
    "collapsed": true
   },
   "outputs": [],
   "source": []
  }
 ],
 "metadata": {
  "kernelspec": {
   "display_name": "Python 3",
   "language": "python",
   "name": "python3"
  },
  "language_info": {
   "codemirror_mode": {
    "name": "ipython",
    "version": 3
   },
   "file_extension": ".py",
   "mimetype": "text/x-python",
   "name": "python",
   "nbconvert_exporter": "python",
   "pygments_lexer": "ipython3",
   "version": "3.6.0"
  }
 },
 "nbformat": 4,
 "nbformat_minor": 2
}
